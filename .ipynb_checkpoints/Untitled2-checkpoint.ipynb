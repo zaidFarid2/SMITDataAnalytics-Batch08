{
 "cells": [
  {
   "cell_type": "code",
   "execution_count": 15,
   "id": "6abbd6c3-f9b5-4ad1-9d28-14cc885df5c0",
   "metadata": {},
   "outputs": [
    {
     "data": {
      "text/plain": [
       "array([[ 0.22222222, -0.11111111,  0.05555556,  0.27777778,  0.16666667],\n",
       "       [-0.05555556,  0.02777778,  0.36111111, -0.19444444,  0.08333333],\n",
       "       [ 0.61111111,  0.19444444,  0.02777778,  0.13888889,  0.08333333],\n",
       "       [-0.05555556,  0.02777778, -0.13888889,  0.30555556, -0.41666667],\n",
       "       [-1.16666667,  0.08333333, -0.41666667, -0.08333333, -0.25      ]])"
      ]
     },
     "execution_count": 15,
     "metadata": {},
     "output_type": "execute_result"
    }
   ],
   "source": [
    "inv(arr)"
   ]
  },
  {
   "cell_type": "code",
   "execution_count": 21,
   "id": "6e516525-cafd-4dec-aa6a-804658541e47",
   "metadata": {},
   "outputs": [
    {
     "data": {
      "text/plain": [
       "(array([[-0.,  0.,  0.,  0.,  0.],\n",
       "        [ 0.,  0.,  0.,  0.,  0.],\n",
       "        [ 0.,  0.,  0.,  0.,  0.],\n",
       "        [ 0.,  0.,  0.,  0.,  0.],\n",
       "        [ 0.,  0.,  0.,  0.,  0.]]),\n",
       " array([[-0.,  2.,  1.,  3.,  1.],\n",
       "        [ 1.,  2.,  2.,  1.,  2.],\n",
       "        [ 2.,  1.,  1.,  1.,  1.],\n",
       "        [ 2.,  3.,  2.,  2.,  1.],\n",
       "        [ 2.,  1.,  1.,  1.,  2.]]))"
      ]
     },
     "execution_count": 21,
     "metadata": {},
     "output_type": "execute_result"
    }
   ],
   "source": [
    "np.modf(arr)"
   ]
  },
  {
   "cell_type": "code",
   "execution_count": 17,
   "id": "86e71a27-a50f-41e5-87c8-c765fd2cccea",
   "metadata": {},
   "outputs": [
    {
     "data": {
      "text/plain": [
       "QRResult(Q=array([[ 0.00000000e+00, -7.10531047e-01, -3.08456854e-01,\n",
       "         6.32455532e-01, -9.75630737e-17],\n",
       "       [ 2.77350098e-01, -3.82593641e-01,  8.81305298e-01,\n",
       "         5.55111512e-17,  4.89813074e-17],\n",
       "       [ 5.54700196e-01,  3.00609289e-01, -4.40652649e-02,\n",
       "         3.16227766e-01, -7.07106781e-01],\n",
       "       [ 5.54700196e-01, -4.09921758e-01, -3.52522119e-01,\n",
       "        -6.32455532e-01,  6.52767395e-17],\n",
       "       [ 5.54700196e-01,  3.00609289e-01, -4.40652649e-02,\n",
       "         3.16227766e-01,  7.07106781e-01]]), R=array([[ 3.60555128,  3.32820118,  2.77350098,  2.49615088,  2.77350098],\n",
       "       [ 0.        , -2.81479607, -1.69434327, -2.73281172, -0.98381222],\n",
       "       [ 0.        ,  0.        ,  0.66097897, -0.83724003,  0.96943583],\n",
       "       [ 0.        ,  0.        ,  0.        ,  1.26491106,  0.9486833 ],\n",
       "       [ 0.        ,  0.        ,  0.        ,  0.        ,  0.70710678]]))"
      ]
     },
     "execution_count": 17,
     "metadata": {},
     "output_type": "execute_result"
    }
   ],
   "source": [
    "qr(arr)"
   ]
  },
  {
   "cell_type": "code",
   "execution_count": 16,
   "id": "d0c52a41-08b5-4cdd-bcbd-559dfda7d3d0",
   "metadata": {},
   "outputs": [
    {
     "data": {
      "text/plain": [
       "array([[ 0,  1,  2,  3],\n",
       "       [ 4,  5,  6,  7],\n",
       "       [ 8,  9, 10, 11],\n",
       "       [12, 13, 14, 15]])"
      ]
     },
     "execution_count": 16,
     "metadata": {},
     "output_type": "execute_result"
    }
   ],
   "source": [
    "import numpy as np\n",
    "from numpy.linalg import inv,qr\n",
    "arr = np.round(np.random.randn(5,5)+1)\n",
    "arr\n",
    "arr2 = np.arange(16).reshape(4,4)\n",
    "arr2\n"
   ]
  }
 ],
 "metadata": {
  "kernelspec": {
   "display_name": "Python 3 (ipykernel)",
   "language": "python",
   "name": "python3"
  },
  "language_info": {
   "codemirror_mode": {
    "name": "ipython",
    "version": 3
   },
   "file_extension": ".py",
   "mimetype": "text/x-python",
   "name": "python",
   "nbconvert_exporter": "python",
   "pygments_lexer": "ipython3",
   "version": "3.13.1"
  }
 },
 "nbformat": 4,
 "nbformat_minor": 5
}
