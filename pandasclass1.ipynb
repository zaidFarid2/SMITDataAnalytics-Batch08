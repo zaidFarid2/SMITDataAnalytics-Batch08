{
 "cells": [
  {
   "cell_type": "code",
   "execution_count": 2,
   "id": "0f3a30b4-d849-4375-b4c0-f4d42187a1bb",
   "metadata": {},
   "outputs": [],
   "source": [
    "#creating a series\n",
    "import pandas as pd"
   ]
  },
  {
   "cell_type": "code",
   "execution_count": 12,
   "id": "bc4dce1e-3144-46ea-9a1b-b1efd350f274",
   "metadata": {},
   "outputs": [
    {
     "data": {
      "text/plain": [
       "np.int64(54)"
      ]
     },
     "execution_count": 12,
     "metadata": {},
     "output_type": "execute_result"
    }
   ],
   "source": [
    "s2 = pd.Series([23,432,54,65,67], index = [\"ahned\",\"cat\",\"faheem\",\"dune\",\"reshi\"] , name  = \"bhai\")\n",
    "s2[\"faheem\"]"
   ]
  },
  {
   "cell_type": "code",
   "execution_count": 16,
   "id": "c3893814-7a0d-4b83-955e-4da9b0ff8840",
   "metadata": {},
   "outputs": [
    {
     "data": {
      "text/html": [
       "<div>\n",
       "<style scoped>\n",
       "    .dataframe tbody tr th:only-of-type {\n",
       "        vertical-align: middle;\n",
       "    }\n",
       "\n",
       "    .dataframe tbody tr th {\n",
       "        vertical-align: top;\n",
       "    }\n",
       "\n",
       "    .dataframe thead th {\n",
       "        text-align: right;\n",
       "    }\n",
       "</style>\n",
       "<table border=\"1\" class=\"dataframe\">\n",
       "  <thead>\n",
       "    <tr style=\"text-align: right;\">\n",
       "      <th></th>\n",
       "      <th>name</th>\n",
       "      <th>rollno</th>\n",
       "      <th>dpt</th>\n",
       "    </tr>\n",
       "  </thead>\n",
       "  <tbody>\n",
       "    <tr>\n",
       "      <th>0</th>\n",
       "      <td>zaid</td>\n",
       "      <td>109</td>\n",
       "      <td>ai</td>\n",
       "    </tr>\n",
       "    <tr>\n",
       "      <th>1</th>\n",
       "      <td>ibad</td>\n",
       "      <td>58</td>\n",
       "      <td>cs</td>\n",
       "    </tr>\n",
       "    <tr>\n",
       "      <th>2</th>\n",
       "      <td>wasay</td>\n",
       "      <td>111</td>\n",
       "      <td>cse</td>\n",
       "    </tr>\n",
       "  </tbody>\n",
       "</table>\n",
       "</div>"
      ],
      "text/plain": [
       "    name  rollno  dpt\n",
       "0   zaid     109   ai\n",
       "1   ibad      58   cs\n",
       "2  wasay     111  cse"
      ]
     },
     "execution_count": 16,
     "metadata": {},
     "output_type": "execute_result"
    }
   ],
   "source": [
    "df  = pd.DataFrame({\"name\":[\"zaid\",\"ibad\",\"wasay\"],\"rollno\":[109,58,111],\"dpt\":[\"ai\",\"cs\",\"cse\"]})\n",
    "df"
   ]
  },
  {
   "cell_type": "code",
   "execution_count": 17,
   "id": "3085779e-e216-4e9b-8da8-4c2677dc278f",
   "metadata": {},
   "outputs": [
    {
     "data": {
      "text/plain": [
       "array([['zaid', 109, 'ai'],\n",
       "       ['ibad', 58, 'cs'],\n",
       "       ['wasay', 111, 'cse']], dtype=object)"
      ]
     },
     "execution_count": 17,
     "metadata": {},
     "output_type": "execute_result"
    }
   ],
   "source": [
    "df.values"
   ]
  },
  {
   "cell_type": "code",
   "execution_count": 18,
   "id": "b1764154-4cdc-4556-a842-eee3c48ca396",
   "metadata": {},
   "outputs": [
    {
     "data": {
      "text/plain": [
       "RangeIndex(start=0, stop=3, step=1)"
      ]
     },
     "execution_count": 18,
     "metadata": {},
     "output_type": "execute_result"
    }
   ],
   "source": [
    "df.index"
   ]
  },
  {
   "cell_type": "code",
   "execution_count": null,
   "id": "f856f179-0608-45b6-a2a3-5caa49d4785a",
   "metadata": {},
   "outputs": [],
   "source": []
  }
 ],
 "metadata": {
  "kernelspec": {
   "display_name": "Python 3 (ipykernel)",
   "language": "python",
   "name": "python3"
  },
  "language_info": {
   "codemirror_mode": {
    "name": "ipython",
    "version": 3
   },
   "file_extension": ".py",
   "mimetype": "text/x-python",
   "name": "python",
   "nbconvert_exporter": "python",
   "pygments_lexer": "ipython3",
   "version": "3.13.1"
  }
 },
 "nbformat": 4,
 "nbformat_minor": 5
}
