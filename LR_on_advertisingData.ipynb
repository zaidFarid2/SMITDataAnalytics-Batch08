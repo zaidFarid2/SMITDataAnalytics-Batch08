{
 "cells": [
  {
   "cell_type": "code",
   "execution_count": 1,
   "id": "aae91309-6a8e-48bc-9c0e-7ca30b97cf0e",
   "metadata": {},
   "outputs": [],
   "source": [
    "import pandas as pd "
   ]
  },
  {
   "cell_type": "code",
   "execution_count": 2,
   "id": "27ceb0b0-f644-4987-94d9-5dfbd885953a",
   "metadata": {},
   "outputs": [],
   "source": [
    "df = pd.read_csv(\"advertising.csv\")"
   ]
  },
  {
   "cell_type": "code",
   "execution_count": 5,
   "id": "d97a0f54-b25e-4473-aa9d-388b42e5e699",
   "metadata": {},
   "outputs": [
    {
     "data": {
      "text/html": [
       "<div>\n",
       "<style scoped>\n",
       "    .dataframe tbody tr th:only-of-type {\n",
       "        vertical-align: middle;\n",
       "    }\n",
       "\n",
       "    .dataframe tbody tr th {\n",
       "        vertical-align: top;\n",
       "    }\n",
       "\n",
       "    .dataframe thead th {\n",
       "        text-align: right;\n",
       "    }\n",
       "</style>\n",
       "<table border=\"1\" class=\"dataframe\">\n",
       "  <thead>\n",
       "    <tr style=\"text-align: right;\">\n",
       "      <th></th>\n",
       "      <th>TV</th>\n",
       "      <th>Radio</th>\n",
       "      <th>Newspaper</th>\n",
       "      <th>Sales</th>\n",
       "    </tr>\n",
       "  </thead>\n",
       "  <tbody>\n",
       "    <tr>\n",
       "      <th>0</th>\n",
       "      <td>230.1</td>\n",
       "      <td>37.8</td>\n",
       "      <td>69.2</td>\n",
       "      <td>22.1</td>\n",
       "    </tr>\n",
       "    <tr>\n",
       "      <th>1</th>\n",
       "      <td>44.5</td>\n",
       "      <td>39.3</td>\n",
       "      <td>45.1</td>\n",
       "      <td>10.4</td>\n",
       "    </tr>\n",
       "    <tr>\n",
       "      <th>2</th>\n",
       "      <td>17.2</td>\n",
       "      <td>45.9</td>\n",
       "      <td>69.3</td>\n",
       "      <td>12.0</td>\n",
       "    </tr>\n",
       "    <tr>\n",
       "      <th>3</th>\n",
       "      <td>151.5</td>\n",
       "      <td>41.3</td>\n",
       "      <td>58.5</td>\n",
       "      <td>16.5</td>\n",
       "    </tr>\n",
       "    <tr>\n",
       "      <th>4</th>\n",
       "      <td>180.8</td>\n",
       "      <td>10.8</td>\n",
       "      <td>58.4</td>\n",
       "      <td>17.9</td>\n",
       "    </tr>\n",
       "  </tbody>\n",
       "</table>\n",
       "</div>"
      ],
      "text/plain": [
       "      TV  Radio  Newspaper  Sales\n",
       "0  230.1   37.8       69.2   22.1\n",
       "1   44.5   39.3       45.1   10.4\n",
       "2   17.2   45.9       69.3   12.0\n",
       "3  151.5   41.3       58.5   16.5\n",
       "4  180.8   10.8       58.4   17.9"
      ]
     },
     "execution_count": 5,
     "metadata": {},
     "output_type": "execute_result"
    }
   ],
   "source": [
    "df.head(5)"
   ]
  },
  {
   "cell_type": "code",
   "execution_count": 4,
   "id": "5b169ee3-25ec-4f4e-bd2f-0b69b1e7bd3b",
   "metadata": {},
   "outputs": [
    {
     "data": {
      "text/plain": [
       "Index(['TV', 'Radio', 'Newspaper', 'Sales'], dtype='object')"
      ]
     },
     "execution_count": 4,
     "metadata": {},
     "output_type": "execute_result"
    }
   ],
   "source": [
    "df.columns"
   ]
  },
  {
   "cell_type": "code",
   "execution_count": 6,
   "id": "e11ce8a2-e215-4262-9eee-247747dacf71",
   "metadata": {},
   "outputs": [],
   "source": [
    "X = df.drop(columns=\"Sales\",axis=1)\n",
    "y = df['Sales']"
   ]
  },
  {
   "cell_type": "code",
   "execution_count": 8,
   "id": "7078b68c-dd32-4387-8ecb-80a3100db554",
   "metadata": {},
   "outputs": [
    {
     "data": {
      "text/html": [
       "<div>\n",
       "<style scoped>\n",
       "    .dataframe tbody tr th:only-of-type {\n",
       "        vertical-align: middle;\n",
       "    }\n",
       "\n",
       "    .dataframe tbody tr th {\n",
       "        vertical-align: top;\n",
       "    }\n",
       "\n",
       "    .dataframe thead th {\n",
       "        text-align: right;\n",
       "    }\n",
       "</style>\n",
       "<table border=\"1\" class=\"dataframe\">\n",
       "  <thead>\n",
       "    <tr style=\"text-align: right;\">\n",
       "      <th></th>\n",
       "      <th>TV</th>\n",
       "      <th>Radio</th>\n",
       "      <th>Newspaper</th>\n",
       "    </tr>\n",
       "  </thead>\n",
       "  <tbody>\n",
       "    <tr>\n",
       "      <th>0</th>\n",
       "      <td>230.1</td>\n",
       "      <td>37.8</td>\n",
       "      <td>69.2</td>\n",
       "    </tr>\n",
       "    <tr>\n",
       "      <th>1</th>\n",
       "      <td>44.5</td>\n",
       "      <td>39.3</td>\n",
       "      <td>45.1</td>\n",
       "    </tr>\n",
       "    <tr>\n",
       "      <th>2</th>\n",
       "      <td>17.2</td>\n",
       "      <td>45.9</td>\n",
       "      <td>69.3</td>\n",
       "    </tr>\n",
       "  </tbody>\n",
       "</table>\n",
       "</div>"
      ],
      "text/plain": [
       "      TV  Radio  Newspaper\n",
       "0  230.1   37.8       69.2\n",
       "1   44.5   39.3       45.1\n",
       "2   17.2   45.9       69.3"
      ]
     },
     "execution_count": 8,
     "metadata": {},
     "output_type": "execute_result"
    }
   ],
   "source": [
    "X.head(3)"
   ]
  },
  {
   "cell_type": "code",
   "execution_count": 10,
   "id": "3a4048f6-7551-4852-9dc3-065e5508f553",
   "metadata": {},
   "outputs": [
    {
     "data": {
      "text/plain": [
       "0      22.1\n",
       "1      10.4\n",
       "2      12.0\n",
       "3      16.5\n",
       "4      17.9\n",
       "       ... \n",
       "195     7.6\n",
       "196    14.0\n",
       "197    14.8\n",
       "198    25.5\n",
       "199    18.4\n",
       "Name: Sales, Length: 200, dtype: float64"
      ]
     },
     "execution_count": 10,
     "metadata": {},
     "output_type": "execute_result"
    }
   ],
   "source": [
    "y"
   ]
  },
  {
   "cell_type": "code",
   "execution_count": 11,
   "id": "71146a3e-3264-460e-b014-8bf846beefac",
   "metadata": {},
   "outputs": [],
   "source": [
    "from sklearn.model_selection import train_test_split"
   ]
  },
  {
   "cell_type": "code",
   "execution_count": 12,
   "id": "36ae0e0b-2332-48d5-a4d5-24dd68dfe503",
   "metadata": {},
   "outputs": [],
   "source": [
    "X_train,X_test,y_train,y_test = train_test_split(X,y,test_size=0.4,random_state=0)"
   ]
  },
  {
   "cell_type": "code",
   "execution_count": 13,
   "id": "6f7ec833-0e4e-4b22-a4c7-d1e5f6486304",
   "metadata": {},
   "outputs": [],
   "source": [
    "from sklearn.linear_model import LinearRegression"
   ]
  },
  {
   "cell_type": "code",
   "execution_count": 14,
   "id": "efa2bba5-9548-4858-8e7e-cf3f034cc749",
   "metadata": {},
   "outputs": [],
   "source": [
    "lr = LinearRegression() "
   ]
  },
  {
   "cell_type": "code",
   "execution_count": 15,
   "id": "1ea2fa36-3514-4e0c-a664-31fcda47ca90",
   "metadata": {},
   "outputs": [
    {
     "data": {
      "text/html": [
       "<style>#sk-container-id-1 {\n",
       "  /* Definition of color scheme common for light and dark mode */\n",
       "  --sklearn-color-text: #000;\n",
       "  --sklearn-color-text-muted: #666;\n",
       "  --sklearn-color-line: gray;\n",
       "  /* Definition of color scheme for unfitted estimators */\n",
       "  --sklearn-color-unfitted-level-0: #fff5e6;\n",
       "  --sklearn-color-unfitted-level-1: #f6e4d2;\n",
       "  --sklearn-color-unfitted-level-2: #ffe0b3;\n",
       "  --sklearn-color-unfitted-level-3: chocolate;\n",
       "  /* Definition of color scheme for fitted estimators */\n",
       "  --sklearn-color-fitted-level-0: #f0f8ff;\n",
       "  --sklearn-color-fitted-level-1: #d4ebff;\n",
       "  --sklearn-color-fitted-level-2: #b3dbfd;\n",
       "  --sklearn-color-fitted-level-3: cornflowerblue;\n",
       "\n",
       "  /* Specific color for light theme */\n",
       "  --sklearn-color-text-on-default-background: var(--sg-text-color, var(--theme-code-foreground, var(--jp-content-font-color1, black)));\n",
       "  --sklearn-color-background: var(--sg-background-color, var(--theme-background, var(--jp-layout-color0, white)));\n",
       "  --sklearn-color-border-box: var(--sg-text-color, var(--theme-code-foreground, var(--jp-content-font-color1, black)));\n",
       "  --sklearn-color-icon: #696969;\n",
       "\n",
       "  @media (prefers-color-scheme: dark) {\n",
       "    /* Redefinition of color scheme for dark theme */\n",
       "    --sklearn-color-text-on-default-background: var(--sg-text-color, var(--theme-code-foreground, var(--jp-content-font-color1, white)));\n",
       "    --sklearn-color-background: var(--sg-background-color, var(--theme-background, var(--jp-layout-color0, #111)));\n",
       "    --sklearn-color-border-box: var(--sg-text-color, var(--theme-code-foreground, var(--jp-content-font-color1, white)));\n",
       "    --sklearn-color-icon: #878787;\n",
       "  }\n",
       "}\n",
       "\n",
       "#sk-container-id-1 {\n",
       "  color: var(--sklearn-color-text);\n",
       "}\n",
       "\n",
       "#sk-container-id-1 pre {\n",
       "  padding: 0;\n",
       "}\n",
       "\n",
       "#sk-container-id-1 input.sk-hidden--visually {\n",
       "  border: 0;\n",
       "  clip: rect(1px 1px 1px 1px);\n",
       "  clip: rect(1px, 1px, 1px, 1px);\n",
       "  height: 1px;\n",
       "  margin: -1px;\n",
       "  overflow: hidden;\n",
       "  padding: 0;\n",
       "  position: absolute;\n",
       "  width: 1px;\n",
       "}\n",
       "\n",
       "#sk-container-id-1 div.sk-dashed-wrapped {\n",
       "  border: 1px dashed var(--sklearn-color-line);\n",
       "  margin: 0 0.4em 0.5em 0.4em;\n",
       "  box-sizing: border-box;\n",
       "  padding-bottom: 0.4em;\n",
       "  background-color: var(--sklearn-color-background);\n",
       "}\n",
       "\n",
       "#sk-container-id-1 div.sk-container {\n",
       "  /* jupyter's `normalize.less` sets `[hidden] { display: none; }`\n",
       "     but bootstrap.min.css set `[hidden] { display: none !important; }`\n",
       "     so we also need the `!important` here to be able to override the\n",
       "     default hidden behavior on the sphinx rendered scikit-learn.org.\n",
       "     See: https://github.com/scikit-learn/scikit-learn/issues/21755 */\n",
       "  display: inline-block !important;\n",
       "  position: relative;\n",
       "}\n",
       "\n",
       "#sk-container-id-1 div.sk-text-repr-fallback {\n",
       "  display: none;\n",
       "}\n",
       "\n",
       "div.sk-parallel-item,\n",
       "div.sk-serial,\n",
       "div.sk-item {\n",
       "  /* draw centered vertical line to link estimators */\n",
       "  background-image: linear-gradient(var(--sklearn-color-text-on-default-background), var(--sklearn-color-text-on-default-background));\n",
       "  background-size: 2px 100%;\n",
       "  background-repeat: no-repeat;\n",
       "  background-position: center center;\n",
       "}\n",
       "\n",
       "/* Parallel-specific style estimator block */\n",
       "\n",
       "#sk-container-id-1 div.sk-parallel-item::after {\n",
       "  content: \"\";\n",
       "  width: 100%;\n",
       "  border-bottom: 2px solid var(--sklearn-color-text-on-default-background);\n",
       "  flex-grow: 1;\n",
       "}\n",
       "\n",
       "#sk-container-id-1 div.sk-parallel {\n",
       "  display: flex;\n",
       "  align-items: stretch;\n",
       "  justify-content: center;\n",
       "  background-color: var(--sklearn-color-background);\n",
       "  position: relative;\n",
       "}\n",
       "\n",
       "#sk-container-id-1 div.sk-parallel-item {\n",
       "  display: flex;\n",
       "  flex-direction: column;\n",
       "}\n",
       "\n",
       "#sk-container-id-1 div.sk-parallel-item:first-child::after {\n",
       "  align-self: flex-end;\n",
       "  width: 50%;\n",
       "}\n",
       "\n",
       "#sk-container-id-1 div.sk-parallel-item:last-child::after {\n",
       "  align-self: flex-start;\n",
       "  width: 50%;\n",
       "}\n",
       "\n",
       "#sk-container-id-1 div.sk-parallel-item:only-child::after {\n",
       "  width: 0;\n",
       "}\n",
       "\n",
       "/* Serial-specific style estimator block */\n",
       "\n",
       "#sk-container-id-1 div.sk-serial {\n",
       "  display: flex;\n",
       "  flex-direction: column;\n",
       "  align-items: center;\n",
       "  background-color: var(--sklearn-color-background);\n",
       "  padding-right: 1em;\n",
       "  padding-left: 1em;\n",
       "}\n",
       "\n",
       "\n",
       "/* Toggleable style: style used for estimator/Pipeline/ColumnTransformer box that is\n",
       "clickable and can be expanded/collapsed.\n",
       "- Pipeline and ColumnTransformer use this feature and define the default style\n",
       "- Estimators will overwrite some part of the style using the `sk-estimator` class\n",
       "*/\n",
       "\n",
       "/* Pipeline and ColumnTransformer style (default) */\n",
       "\n",
       "#sk-container-id-1 div.sk-toggleable {\n",
       "  /* Default theme specific background. It is overwritten whether we have a\n",
       "  specific estimator or a Pipeline/ColumnTransformer */\n",
       "  background-color: var(--sklearn-color-background);\n",
       "}\n",
       "\n",
       "/* Toggleable label */\n",
       "#sk-container-id-1 label.sk-toggleable__label {\n",
       "  cursor: pointer;\n",
       "  display: flex;\n",
       "  width: 100%;\n",
       "  margin-bottom: 0;\n",
       "  padding: 0.5em;\n",
       "  box-sizing: border-box;\n",
       "  text-align: center;\n",
       "  align-items: start;\n",
       "  justify-content: space-between;\n",
       "  gap: 0.5em;\n",
       "}\n",
       "\n",
       "#sk-container-id-1 label.sk-toggleable__label .caption {\n",
       "  font-size: 0.6rem;\n",
       "  font-weight: lighter;\n",
       "  color: var(--sklearn-color-text-muted);\n",
       "}\n",
       "\n",
       "#sk-container-id-1 label.sk-toggleable__label-arrow:before {\n",
       "  /* Arrow on the left of the label */\n",
       "  content: \"▸\";\n",
       "  float: left;\n",
       "  margin-right: 0.25em;\n",
       "  color: var(--sklearn-color-icon);\n",
       "}\n",
       "\n",
       "#sk-container-id-1 label.sk-toggleable__label-arrow:hover:before {\n",
       "  color: var(--sklearn-color-text);\n",
       "}\n",
       "\n",
       "/* Toggleable content - dropdown */\n",
       "\n",
       "#sk-container-id-1 div.sk-toggleable__content {\n",
       "  max-height: 0;\n",
       "  max-width: 0;\n",
       "  overflow: hidden;\n",
       "  text-align: left;\n",
       "  /* unfitted */\n",
       "  background-color: var(--sklearn-color-unfitted-level-0);\n",
       "}\n",
       "\n",
       "#sk-container-id-1 div.sk-toggleable__content.fitted {\n",
       "  /* fitted */\n",
       "  background-color: var(--sklearn-color-fitted-level-0);\n",
       "}\n",
       "\n",
       "#sk-container-id-1 div.sk-toggleable__content pre {\n",
       "  margin: 0.2em;\n",
       "  border-radius: 0.25em;\n",
       "  color: var(--sklearn-color-text);\n",
       "  /* unfitted */\n",
       "  background-color: var(--sklearn-color-unfitted-level-0);\n",
       "}\n",
       "\n",
       "#sk-container-id-1 div.sk-toggleable__content.fitted pre {\n",
       "  /* unfitted */\n",
       "  background-color: var(--sklearn-color-fitted-level-0);\n",
       "}\n",
       "\n",
       "#sk-container-id-1 input.sk-toggleable__control:checked~div.sk-toggleable__content {\n",
       "  /* Expand drop-down */\n",
       "  max-height: 200px;\n",
       "  max-width: 100%;\n",
       "  overflow: auto;\n",
       "}\n",
       "\n",
       "#sk-container-id-1 input.sk-toggleable__control:checked~label.sk-toggleable__label-arrow:before {\n",
       "  content: \"▾\";\n",
       "}\n",
       "\n",
       "/* Pipeline/ColumnTransformer-specific style */\n",
       "\n",
       "#sk-container-id-1 div.sk-label input.sk-toggleable__control:checked~label.sk-toggleable__label {\n",
       "  color: var(--sklearn-color-text);\n",
       "  background-color: var(--sklearn-color-unfitted-level-2);\n",
       "}\n",
       "\n",
       "#sk-container-id-1 div.sk-label.fitted input.sk-toggleable__control:checked~label.sk-toggleable__label {\n",
       "  background-color: var(--sklearn-color-fitted-level-2);\n",
       "}\n",
       "\n",
       "/* Estimator-specific style */\n",
       "\n",
       "/* Colorize estimator box */\n",
       "#sk-container-id-1 div.sk-estimator input.sk-toggleable__control:checked~label.sk-toggleable__label {\n",
       "  /* unfitted */\n",
       "  background-color: var(--sklearn-color-unfitted-level-2);\n",
       "}\n",
       "\n",
       "#sk-container-id-1 div.sk-estimator.fitted input.sk-toggleable__control:checked~label.sk-toggleable__label {\n",
       "  /* fitted */\n",
       "  background-color: var(--sklearn-color-fitted-level-2);\n",
       "}\n",
       "\n",
       "#sk-container-id-1 div.sk-label label.sk-toggleable__label,\n",
       "#sk-container-id-1 div.sk-label label {\n",
       "  /* The background is the default theme color */\n",
       "  color: var(--sklearn-color-text-on-default-background);\n",
       "}\n",
       "\n",
       "/* On hover, darken the color of the background */\n",
       "#sk-container-id-1 div.sk-label:hover label.sk-toggleable__label {\n",
       "  color: var(--sklearn-color-text);\n",
       "  background-color: var(--sklearn-color-unfitted-level-2);\n",
       "}\n",
       "\n",
       "/* Label box, darken color on hover, fitted */\n",
       "#sk-container-id-1 div.sk-label.fitted:hover label.sk-toggleable__label.fitted {\n",
       "  color: var(--sklearn-color-text);\n",
       "  background-color: var(--sklearn-color-fitted-level-2);\n",
       "}\n",
       "\n",
       "/* Estimator label */\n",
       "\n",
       "#sk-container-id-1 div.sk-label label {\n",
       "  font-family: monospace;\n",
       "  font-weight: bold;\n",
       "  display: inline-block;\n",
       "  line-height: 1.2em;\n",
       "}\n",
       "\n",
       "#sk-container-id-1 div.sk-label-container {\n",
       "  text-align: center;\n",
       "}\n",
       "\n",
       "/* Estimator-specific */\n",
       "#sk-container-id-1 div.sk-estimator {\n",
       "  font-family: monospace;\n",
       "  border: 1px dotted var(--sklearn-color-border-box);\n",
       "  border-radius: 0.25em;\n",
       "  box-sizing: border-box;\n",
       "  margin-bottom: 0.5em;\n",
       "  /* unfitted */\n",
       "  background-color: var(--sklearn-color-unfitted-level-0);\n",
       "}\n",
       "\n",
       "#sk-container-id-1 div.sk-estimator.fitted {\n",
       "  /* fitted */\n",
       "  background-color: var(--sklearn-color-fitted-level-0);\n",
       "}\n",
       "\n",
       "/* on hover */\n",
       "#sk-container-id-1 div.sk-estimator:hover {\n",
       "  /* unfitted */\n",
       "  background-color: var(--sklearn-color-unfitted-level-2);\n",
       "}\n",
       "\n",
       "#sk-container-id-1 div.sk-estimator.fitted:hover {\n",
       "  /* fitted */\n",
       "  background-color: var(--sklearn-color-fitted-level-2);\n",
       "}\n",
       "\n",
       "/* Specification for estimator info (e.g. \"i\" and \"?\") */\n",
       "\n",
       "/* Common style for \"i\" and \"?\" */\n",
       "\n",
       ".sk-estimator-doc-link,\n",
       "a:link.sk-estimator-doc-link,\n",
       "a:visited.sk-estimator-doc-link {\n",
       "  float: right;\n",
       "  font-size: smaller;\n",
       "  line-height: 1em;\n",
       "  font-family: monospace;\n",
       "  background-color: var(--sklearn-color-background);\n",
       "  border-radius: 1em;\n",
       "  height: 1em;\n",
       "  width: 1em;\n",
       "  text-decoration: none !important;\n",
       "  margin-left: 0.5em;\n",
       "  text-align: center;\n",
       "  /* unfitted */\n",
       "  border: var(--sklearn-color-unfitted-level-1) 1pt solid;\n",
       "  color: var(--sklearn-color-unfitted-level-1);\n",
       "}\n",
       "\n",
       ".sk-estimator-doc-link.fitted,\n",
       "a:link.sk-estimator-doc-link.fitted,\n",
       "a:visited.sk-estimator-doc-link.fitted {\n",
       "  /* fitted */\n",
       "  border: var(--sklearn-color-fitted-level-1) 1pt solid;\n",
       "  color: var(--sklearn-color-fitted-level-1);\n",
       "}\n",
       "\n",
       "/* On hover */\n",
       "div.sk-estimator:hover .sk-estimator-doc-link:hover,\n",
       ".sk-estimator-doc-link:hover,\n",
       "div.sk-label-container:hover .sk-estimator-doc-link:hover,\n",
       ".sk-estimator-doc-link:hover {\n",
       "  /* unfitted */\n",
       "  background-color: var(--sklearn-color-unfitted-level-3);\n",
       "  color: var(--sklearn-color-background);\n",
       "  text-decoration: none;\n",
       "}\n",
       "\n",
       "div.sk-estimator.fitted:hover .sk-estimator-doc-link.fitted:hover,\n",
       ".sk-estimator-doc-link.fitted:hover,\n",
       "div.sk-label-container:hover .sk-estimator-doc-link.fitted:hover,\n",
       ".sk-estimator-doc-link.fitted:hover {\n",
       "  /* fitted */\n",
       "  background-color: var(--sklearn-color-fitted-level-3);\n",
       "  color: var(--sklearn-color-background);\n",
       "  text-decoration: none;\n",
       "}\n",
       "\n",
       "/* Span, style for the box shown on hovering the info icon */\n",
       ".sk-estimator-doc-link span {\n",
       "  display: none;\n",
       "  z-index: 9999;\n",
       "  position: relative;\n",
       "  font-weight: normal;\n",
       "  right: .2ex;\n",
       "  padding: .5ex;\n",
       "  margin: .5ex;\n",
       "  width: min-content;\n",
       "  min-width: 20ex;\n",
       "  max-width: 50ex;\n",
       "  color: var(--sklearn-color-text);\n",
       "  box-shadow: 2pt 2pt 4pt #999;\n",
       "  /* unfitted */\n",
       "  background: var(--sklearn-color-unfitted-level-0);\n",
       "  border: .5pt solid var(--sklearn-color-unfitted-level-3);\n",
       "}\n",
       "\n",
       ".sk-estimator-doc-link.fitted span {\n",
       "  /* fitted */\n",
       "  background: var(--sklearn-color-fitted-level-0);\n",
       "  border: var(--sklearn-color-fitted-level-3);\n",
       "}\n",
       "\n",
       ".sk-estimator-doc-link:hover span {\n",
       "  display: block;\n",
       "}\n",
       "\n",
       "/* \"?\"-specific style due to the `<a>` HTML tag */\n",
       "\n",
       "#sk-container-id-1 a.estimator_doc_link {\n",
       "  float: right;\n",
       "  font-size: 1rem;\n",
       "  line-height: 1em;\n",
       "  font-family: monospace;\n",
       "  background-color: var(--sklearn-color-background);\n",
       "  border-radius: 1rem;\n",
       "  height: 1rem;\n",
       "  width: 1rem;\n",
       "  text-decoration: none;\n",
       "  /* unfitted */\n",
       "  color: var(--sklearn-color-unfitted-level-1);\n",
       "  border: var(--sklearn-color-unfitted-level-1) 1pt solid;\n",
       "}\n",
       "\n",
       "#sk-container-id-1 a.estimator_doc_link.fitted {\n",
       "  /* fitted */\n",
       "  border: var(--sklearn-color-fitted-level-1) 1pt solid;\n",
       "  color: var(--sklearn-color-fitted-level-1);\n",
       "}\n",
       "\n",
       "/* On hover */\n",
       "#sk-container-id-1 a.estimator_doc_link:hover {\n",
       "  /* unfitted */\n",
       "  background-color: var(--sklearn-color-unfitted-level-3);\n",
       "  color: var(--sklearn-color-background);\n",
       "  text-decoration: none;\n",
       "}\n",
       "\n",
       "#sk-container-id-1 a.estimator_doc_link.fitted:hover {\n",
       "  /* fitted */\n",
       "  background-color: var(--sklearn-color-fitted-level-3);\n",
       "}\n",
       "</style><div id=\"sk-container-id-1\" class=\"sk-top-container\"><div class=\"sk-text-repr-fallback\"><pre>LinearRegression()</pre><b>In a Jupyter environment, please rerun this cell to show the HTML representation or trust the notebook. <br />On GitHub, the HTML representation is unable to render, please try loading this page with nbviewer.org.</b></div><div class=\"sk-container\" hidden><div class=\"sk-item\"><div class=\"sk-estimator fitted sk-toggleable\"><input class=\"sk-toggleable__control sk-hidden--visually\" id=\"sk-estimator-id-1\" type=\"checkbox\" checked><label for=\"sk-estimator-id-1\" class=\"sk-toggleable__label fitted sk-toggleable__label-arrow\"><div><div>LinearRegression</div></div><div><a class=\"sk-estimator-doc-link fitted\" rel=\"noreferrer\" target=\"_blank\" href=\"https://scikit-learn.org/1.6/modules/generated/sklearn.linear_model.LinearRegression.html\">?<span>Documentation for LinearRegression</span></a><span class=\"sk-estimator-doc-link fitted\">i<span>Fitted</span></span></div></label><div class=\"sk-toggleable__content fitted\"><pre>LinearRegression()</pre></div> </div></div></div></div>"
      ],
      "text/plain": [
       "LinearRegression()"
      ]
     },
     "execution_count": 15,
     "metadata": {},
     "output_type": "execute_result"
    }
   ],
   "source": [
    "lr.fit(X_train,y_train)"
   ]
  },
  {
   "cell_type": "code",
   "execution_count": 19,
   "id": "53c4c370-aafe-4d15-bf9d-aed8f5f3b94e",
   "metadata": {},
   "outputs": [],
   "source": [
    "y_predict_train = lr.predict(X_train)"
   ]
  },
  {
   "cell_type": "code",
   "execution_count": 22,
   "id": "6568b3df-7f8b-46da-b562-94fc0b16424f",
   "metadata": {},
   "outputs": [],
   "source": [
    "from sklearn.metrics import r2_score,mean_absolute_error"
   ]
  },
  {
   "cell_type": "code",
   "execution_count": 20,
   "id": "4390581d-73d0-4d8c-aed3-a4cce27dfbf1",
   "metadata": {},
   "outputs": [],
   "source": [
    "score = r2_score(y_train,y_predict_train)"
   ]
  },
  {
   "cell_type": "code",
   "execution_count": 21,
   "id": "b4df2c7e-acea-4729-8616-9f364295efc7",
   "metadata": {},
   "outputs": [
    {
     "data": {
      "text/plain": [
       "0.9172138311351857"
      ]
     },
     "execution_count": 21,
     "metadata": {},
     "output_type": "execute_result"
    }
   ],
   "source": [
    "score"
   ]
  },
  {
   "cell_type": "code",
   "execution_count": 23,
   "id": "ec31a2ec-acee-42ad-8724-c0c9e61f6d8f",
   "metadata": {},
   "outputs": [
    {
     "data": {
      "text/plain": [
       "1.1950937751432176"
      ]
     },
     "execution_count": 23,
     "metadata": {},
     "output_type": "execute_result"
    }
   ],
   "source": [
    "mean_absolute_error(y_train,y_predict_train)"
   ]
  },
  {
   "cell_type": "markdown",
   "id": "6007cc55-4fce-4e46-9e3d-d55a4bb8a0c6",
   "metadata": {},
   "source": [
    "# on test"
   ]
  },
  {
   "cell_type": "code",
   "execution_count": 24,
   "id": "81a3e77b-bd21-43a9-a05e-a60bb11754bf",
   "metadata": {},
   "outputs": [],
   "source": [
    "y_predict_test = lr.predict(X_test)"
   ]
  },
  {
   "cell_type": "code",
   "execution_count": 25,
   "id": "83cc39eb-3464-4e9f-a504-51658981743b",
   "metadata": {},
   "outputs": [],
   "source": [
    "test_score= r2_score(y_test,y_predict_test)"
   ]
  },
  {
   "cell_type": "code",
   "execution_count": 26,
   "id": "4bcad5d2-ac04-4ae1-8734-7fa62070a14e",
   "metadata": {},
   "outputs": [
    {
     "data": {
      "text/plain": [
       "0.8765900905155215"
      ]
     },
     "execution_count": 26,
     "metadata": {},
     "output_type": "execute_result"
    }
   ],
   "source": [
    "test_score"
   ]
  },
  {
   "cell_type": "code",
   "execution_count": 30,
   "id": "daaad4a6-9643-4948-97ca-264b6addccae",
   "metadata": {},
   "outputs": [
    {
     "data": {
      "text/plain": [
       "1.299462629952957"
      ]
     },
     "execution_count": 30,
     "metadata": {},
     "output_type": "execute_result"
    }
   ],
   "source": [
    "mean_absolute_error(y_test,y_predict_test)"
   ]
  },
  {
   "cell_type": "markdown",
   "id": "965375a8-bcb9-4e87-ad19-79c175980e9f",
   "metadata": {},
   "source": [
    "## standardScaler"
   ]
  },
  {
   "cell_type": "code",
   "execution_count": 50,
   "id": "fae4504c-5dc0-42df-b2b5-85a8edd451b6",
   "metadata": {},
   "outputs": [],
   "source": [
    "from  sklearn.preprocessing import StandardScaler,MinMaxScaler,Normalizer"
   ]
  },
  {
   "cell_type": "code",
   "execution_count": 33,
   "id": "13f07ac8-b4ab-4747-bb23-0f67f1343ca0",
   "metadata": {},
   "outputs": [
    {
     "data": {
      "text/html": [
       "<div>\n",
       "<style scoped>\n",
       "    .dataframe tbody tr th:only-of-type {\n",
       "        vertical-align: middle;\n",
       "    }\n",
       "\n",
       "    .dataframe tbody tr th {\n",
       "        vertical-align: top;\n",
       "    }\n",
       "\n",
       "    .dataframe thead th {\n",
       "        text-align: right;\n",
       "    }\n",
       "</style>\n",
       "<table border=\"1\" class=\"dataframe\">\n",
       "  <thead>\n",
       "    <tr style=\"text-align: right;\">\n",
       "      <th></th>\n",
       "      <th>TV</th>\n",
       "      <th>Radio</th>\n",
       "      <th>Newspaper</th>\n",
       "    </tr>\n",
       "  </thead>\n",
       "  <tbody>\n",
       "    <tr>\n",
       "      <th>0</th>\n",
       "      <td>230.1</td>\n",
       "      <td>37.8</td>\n",
       "      <td>69.2</td>\n",
       "    </tr>\n",
       "    <tr>\n",
       "      <th>1</th>\n",
       "      <td>44.5</td>\n",
       "      <td>39.3</td>\n",
       "      <td>45.1</td>\n",
       "    </tr>\n",
       "    <tr>\n",
       "      <th>2</th>\n",
       "      <td>17.2</td>\n",
       "      <td>45.9</td>\n",
       "      <td>69.3</td>\n",
       "    </tr>\n",
       "  </tbody>\n",
       "</table>\n",
       "</div>"
      ],
      "text/plain": [
       "      TV  Radio  Newspaper\n",
       "0  230.1   37.8       69.2\n",
       "1   44.5   39.3       45.1\n",
       "2   17.2   45.9       69.3"
      ]
     },
     "execution_count": 33,
     "metadata": {},
     "output_type": "execute_result"
    }
   ],
   "source": [
    "X.head(3)"
   ]
  },
  {
   "cell_type": "code",
   "execution_count": 34,
   "id": "4bb5d579-1dd8-44f9-8fff-f1b926759420",
   "metadata": {},
   "outputs": [
    {
     "data": {
      "text/plain": [
       "0    22.1\n",
       "1    10.4\n",
       "Name: Sales, dtype: float64"
      ]
     },
     "execution_count": 34,
     "metadata": {},
     "output_type": "execute_result"
    }
   ],
   "source": [
    "y.head(2)"
   ]
  },
  {
   "cell_type": "code",
   "execution_count": 40,
   "id": "d616ae82-4ca2-441e-94f7-9c122d18b578",
   "metadata": {},
   "outputs": [],
   "source": [
    "scaler  = StandardScaler()"
   ]
  },
  {
   "cell_type": "code",
   "execution_count": 41,
   "id": "b5691923-9474-4fb7-8e63-1d766aafd6e1",
   "metadata": {},
   "outputs": [],
   "source": [
    "X_train_scaler = scaler.fit_transform(X_train)"
   ]
  },
  {
   "cell_type": "code",
   "execution_count": 44,
   "id": "58c19c98-6fb1-43f9-971d-467264217584",
   "metadata": {},
   "outputs": [],
   "source": [
    "y_train_scaler = scaler.fit_transform([y_train])"
   ]
  },
  {
   "cell_type": "code",
   "execution_count": 48,
   "id": "48c111d5-89e0-47d7-a2aa-1233740a1625",
   "metadata": {},
   "outputs": [
    {
     "data": {
      "text/plain": [
       "array([[ 5.09012654e-01,  3.67347428e-01, -5.48869050e-01],\n",
       "       [-6.79061077e-01, -8.49949572e-01,  3.48534411e-01],\n",
       "       [-1.22623113e+00,  1.86047875e-01, -4.30924595e-01],\n",
       "       [-1.28247131e+00, -1.25139858e+00, -7.74501920e-01],\n",
       "       [-1.57656056e+00, -1.46507306e+00, -1.69395587e-01],\n",
       "       [ 1.07375776e+00, -4.87350465e-01, -8.22192504e-02],\n",
       "       [-1.52852208e+00,  1.48104468e+00,  2.07154906e+00],\n",
       "       [ 7.38660042e-01,  4.19147300e-01, -1.00526281e+00],\n",
       "       [-1.43010177e+00,  1.03427078e+00, -1.00526281e+00],\n",
       "       [ 3.43807135e-01, -8.88799476e-01, -1.15397538e+00],\n",
       "       [ 6.94136569e-01, -9.47074332e-01, -1.28371428e-01],\n",
       "       [-9.55575279e-01, -1.11542392e+00, -2.41187863e-01],\n",
       "       [ 2.39411307e-02,  8.14121327e-01, -1.17448746e+00],\n",
       "       [-2.13907950e-01, -1.12189890e+00,  1.22901541e-01],\n",
       "       [-6.26335912e-01, -1.17369877e+00, -1.06679905e+00],\n",
       "       [ 1.51196247e+00, -1.34204836e+00, -2.66827962e-01],\n",
       "       [ 1.51430581e+00,  1.67529420e+00,  6.61343617e-01],\n",
       "       [-1.63865909e+00,  1.02779580e+00,  1.11260936e+00],\n",
       "       [ 1.20967152e+00,  8.72396183e-01,  2.22538965e+00],\n",
       "       [ 3.28575421e-01, -4.93825449e-01, -1.35909617e+00],\n",
       "       [-1.59296395e+00,  8.98296119e-01,  8.35696289e-01],\n",
       "       [-8.45438266e-01, -7.91674715e-01, -1.17448746e+00],\n",
       "       [ 6.10947974e-01, -1.29024849e+00,  2.92126193e-01],\n",
       "       [ 9.65964089e-01,  9.56570975e-01,  2.06642104e+00],\n",
       "       [-4.71675426e-01, -5.84475226e-01, -9.23214494e-01],\n",
       "       [ 9.15582264e-01, -9.60024300e-01,  1.41516252e+00],\n",
       "       [ 1.83288298e-01,  5.55121965e-01,  1.23055381e+00],\n",
       "       [-1.93989554e-01,  1.28032018e+00, -1.70933993e-04],\n",
       "       [ 6.92964899e-01, -1.15427382e+00, -4.87332813e-01],\n",
       "       [ 3.43807135e-01,  6.71671678e-01,  5.02375004e-01],\n",
       "       [ 8.10131933e-01,  1.35154500e+00, -8.73472702e-02],\n",
       "       [-9.46201916e-01, -7.33399859e-01,  4.04942628e-01],\n",
       "       [ 9.31985649e-01, -4.67925513e-01,  1.07671322e+00],\n",
       "       [ 5.33617731e-01, -2.99575928e-01,  1.88694034e+00],\n",
       "       [-5.87670790e-01, -9.98874205e-01, -1.11295123e+00],\n",
       "       [-7.25927891e-01,  8.27071295e-01,  1.04594510e+00],\n",
       "       [ 9.44874023e-01, -3.96700689e-01, -1.38627468e-01],\n",
       "       [-9.55692446e-02, -1.35499833e+00, -1.18115389e-01],\n",
       "       [-1.16413260e+00,  1.55226951e+00, -1.04628697e+00],\n",
       "       [ 8.28878659e-01,  3.02597587e-01,  1.25619391e+00],\n",
       "       [ 5.59394479e-01,  1.59759440e+00,  1.23055381e+00],\n",
       "       [-1.66677918e+00,  4.45047236e-01, -1.00013479e+00],\n",
       "       [ 1.06086939e+00,  7.29946534e-01, -1.21038360e+00],\n",
       "       [ 8.05445252e-01,  1.20909535e+00,  5.48527182e-01],\n",
       "       [ 8.75745473e-01, -1.21254868e+00,  1.07158520e+00],\n",
       "       [-1.40784003e+00, -1.38737325e+00, -4.20668556e-01],\n",
       "       [ 4.50311970e-02,  1.18319542e+00,  1.51772292e+00],\n",
       "       [-9.90842556e-02, -5.65050274e-01, -1.69395587e-01],\n",
       "       [-3.56851732e-01, -5.39150338e-01, -1.20525558e+00],\n",
       "       [ 1.59280772e+00,  1.22852031e+00,  1.91258044e+00],\n",
       "       [-1.05633893e+00,  6.32821773e-01, -2.77084002e-01],\n",
       "       [ 1.05149602e+00,  2.89647619e-01, -9.18086474e-01],\n",
       "       [ 7.71466812e-01,  1.29327015e+00,  2.51102035e-01],\n",
       "       [-1.50977535e+00, -8.59014549e-02,  1.10235332e+00],\n",
       "       [-1.68201089e+00, -7.39874843e-01, -1.18987152e+00],\n",
       "       [ 1.97348342e-01, -1.37701327e-01,  9.48512724e-01],\n",
       "       [-6.29850923e-01,  1.32564507e+00,  1.10748134e+00],\n",
       "       [-1.39495166e+00, -1.39384823e+00,  2.10077877e-01],\n",
       "       [ 9.89397496e-01, -9.34124364e-01, -1.03603093e+00],\n",
       "       [ 7.85526856e-01,  6.30231780e-02, -1.27704786e+00],\n",
       "       [-1.50274533e+00, -4.54975545e-01, -3.38620239e-01],\n",
       "       [ 1.55297093e+00, -8.36999604e-01, -3.84772417e-01],\n",
       "       [ 1.67599632e+00, -1.22549865e+00, -1.04628697e+00],\n",
       "       [-1.34234366e-01, -2.47776056e-01, -6.30917366e-01],\n",
       "       [-9.21596839e-01, -8.88799476e-01, -1.43601647e+00],\n",
       "       [-1.20865607e+00,  1.05369574e+00,  8.30568270e-01],\n",
       "       [-7.44791784e-02,  2.44322731e-01,  8.86976487e-01],\n",
       "       [ 4.77377555e-01, -3.19000880e-01, -1.69395587e-01],\n",
       "       [ 1.70997476e+00,  3.02597587e-01, -1.38986429e+00],\n",
       "       [-1.14315970e-01,  1.51341960e+00,  1.54336302e+00],\n",
       "       [-1.63162907e+00,  2.70222667e-01, -1.37448023e+00],\n",
       "       [ 2.43043486e-01, -1.03124912e+00, -8.25782118e-01],\n",
       "       [ 1.56703098e+00,  1.07312069e+00,  1.37926639e+00],\n",
       "       [-1.22505946e+00,  2.37847747e-01,  3.17766292e-01],\n",
       "       [ 8.45282044e-01,  6.78146662e-01,  8.30568270e-01],\n",
       "       [ 4.09420675e-01,  1.50046963e+00,  1.52797896e+00],\n",
       "       [ 2.51128011e-02, -1.40679820e+00, -2.36059844e-01],\n",
       "       [ 8.51140395e-01,  1.68176919e+00, -1.31807202e+00],\n",
       "       [-6.08760856e-01, -1.40032321e+00, -1.10269519e+00],\n",
       "       [ 1.18506644e+00,  2.63747683e-01, -3.07852120e-01],\n",
       "       [-8.13803167e-01,  1.53931954e+00,  2.86998173e-01],\n",
       "       [-3.12328259e-01, -9.47074332e-01,  1.01517698e+00],\n",
       "       [-4.07233557e-01, -3.64325769e-01,  4.97246984e-01],\n",
       "       [-1.52032039e+00,  9.43621007e-01, -3.74516378e-01],\n",
       "       [-7.90369760e-01, -1.49097299e+00, -1.01039083e+00],\n",
       "       [ 1.18037976e+00,  4.64472188e-01, -4.41180635e-01],\n",
       "       [-5.91185801e-01, -1.39384823e+00,  5.62372835e-02],\n",
       "       [ 8.53483736e-01,  6.58721710e-01,  4.61350846e-01],\n",
       "       [ 1.60100942e+00, -8.04624683e-01, -1.15397538e+00],\n",
       "       [ 1.11945290e+00,  1.68176919e+00,  7.89544111e-01],\n",
       "       [-9.02850113e-01, -4.54975545e-01,  6.10063419e-01],\n",
       "       [-1.45951070e-01,  1.20909535e+00,  8.71592428e-01],\n",
       "       [-8.47781607e-01, -1.76551231e-01,  1.84437778e-01],\n",
       "       [-3.70911776e-01, -9.92399220e-01, -2.97596081e-01],\n",
       "       [-8.50124948e-01,  7.75271422e-01,  1.22029777e+00],\n",
       "       [-1.28481465e+00,  1.11844558e+00, -8.71934296e-01],\n",
       "       [ 2.24296760e-01,  1.22852031e+00, -1.29755994e+00],\n",
       "       [-1.41604173e+00,  6.45771742e-01, -4.92460832e-01],\n",
       "       [-3.18186610e-01,  3.54397460e-01, -7.53989841e-01],\n",
       "       [ 1.35027196e+00, -1.26434855e+00, -4.82204793e-01],\n",
       "       [ 1.01751758e+00, -1.27082353e+00,  2.86639212e+00],\n",
       "       [ 1.07961611e+00, -1.22549865e+00,  4.10070648e-01],\n",
       "       [ 1.62092781e+00, -5.90950210e-01, -1.29243192e+00],\n",
       "       [ 8.75745473e-01, -1.27082353e+00, -8.10398058e-01],\n",
       "       [-1.26723959e+00,  1.17024545e+00, -1.18474350e+00],\n",
       "       [ 9.41359012e-01,  9.50095991e-01,  1.58797679e-01],\n",
       "       [ 7.39831712e-01,  1.72061909e+00,  4.51094806e-01],\n",
       "       [-8.70043344e-01, -3.90225705e-01, -8.20654098e-01],\n",
       "       [-6.95464462e-01,  1.60147939e-01,  2.28179787e+00],\n",
       "       [ 6.02746282e-01,  4.90372125e-01,  5.02375004e-01],\n",
       "       [-4.33010304e-01,  1.13787053e+00,  1.75873985e+00],\n",
       "       [ 1.39713878e+00,  1.34507002e+00, -1.22576766e+00],\n",
       "       [ 1.05149602e+00, -1.16074881e+00, -2.77084002e-01],\n",
       "       [ 6.10947974e-01, -1.32262341e+00, -3.95028457e-01],\n",
       "       [ 4.71519203e-01, -3.77275737e-01, -5.64253109e-01],\n",
       "       [-9.79125853e-02, -5.52100306e-01, -9.59110632e-01],\n",
       "       [-1.52852208e+00, -1.22549865e+00,  1.38285600e-01],\n",
       "       [-8.34893233e-01, -1.43917312e+00, -7.23221722e-01],\n",
       "       [ 1.08078778e+00,  1.19614538e+00, -5.33484991e-01],\n",
       "       [-1.50040199e+00, -1.89501200e-01, -6.10405287e-01]])"
      ]
     },
     "execution_count": 48,
     "metadata": {},
     "output_type": "execute_result"
    }
   ],
   "source": [
    "X_train_scaler"
   ]
  },
  {
   "cell_type": "markdown",
   "id": "be2faf16-5e9d-4684-8dbf-333ab139a460",
   "metadata": {},
   "source": [
    "## MINMAX\n"
   ]
  },
  {
   "cell_type": "code",
   "execution_count": 52,
   "id": "2074aef7-4ff1-41b5-a3d9-cff2267ea005",
   "metadata": {},
   "outputs": [],
   "source": [
    "from sklearn.preprocessing import MinMaxScaler"
   ]
  },
  {
   "cell_type": "code",
   "execution_count": 69,
   "id": "b300bc3e-71bd-4655-8f68-efe42e679373",
   "metadata": {},
   "outputs": [],
   "source": [
    "minmax_scaler = MinMaxScaler()\n",
    "scaled = minmax_scaler.fit_transform(X)\n"
   ]
  },
  {
   "cell_type": "code",
   "execution_count": 67,
   "id": "c3ed23a5-1901-4b29-86d2-fce5dc8cd894",
   "metadata": {},
   "outputs": [],
   "source": [
    "columns = minmax_scaler.feature_names_in_"
   ]
  },
  {
   "cell_type": "code",
   "execution_count": 70,
   "id": "78dfbc94-57c0-42ba-9206-d46ea7d6c3b3",
   "metadata": {},
   "outputs": [],
   "source": [
    "scaled_data = pd.DataFrame(data=scaled,columns = columns)"
   ]
  },
  {
   "cell_type": "code",
   "execution_count": 71,
   "id": "e89532c7-ebd7-4c49-a38d-bababbf47da4",
   "metadata": {},
   "outputs": [
    {
     "data": {
      "text/html": [
       "<div>\n",
       "<style scoped>\n",
       "    .dataframe tbody tr th:only-of-type {\n",
       "        vertical-align: middle;\n",
       "    }\n",
       "\n",
       "    .dataframe tbody tr th {\n",
       "        vertical-align: top;\n",
       "    }\n",
       "\n",
       "    .dataframe thead th {\n",
       "        text-align: right;\n",
       "    }\n",
       "</style>\n",
       "<table border=\"1\" class=\"dataframe\">\n",
       "  <thead>\n",
       "    <tr style=\"text-align: right;\">\n",
       "      <th></th>\n",
       "      <th>TV</th>\n",
       "      <th>Radio</th>\n",
       "      <th>Newspaper</th>\n",
       "    </tr>\n",
       "  </thead>\n",
       "  <tbody>\n",
       "    <tr>\n",
       "      <th>0</th>\n",
       "      <td>0.775786</td>\n",
       "      <td>0.762097</td>\n",
       "      <td>0.605981</td>\n",
       "    </tr>\n",
       "    <tr>\n",
       "      <th>1</th>\n",
       "      <td>0.148123</td>\n",
       "      <td>0.792339</td>\n",
       "      <td>0.394019</td>\n",
       "    </tr>\n",
       "    <tr>\n",
       "      <th>2</th>\n",
       "      <td>0.055800</td>\n",
       "      <td>0.925403</td>\n",
       "      <td>0.606860</td>\n",
       "    </tr>\n",
       "    <tr>\n",
       "      <th>3</th>\n",
       "      <td>0.509976</td>\n",
       "      <td>0.832661</td>\n",
       "      <td>0.511873</td>\n",
       "    </tr>\n",
       "    <tr>\n",
       "      <th>4</th>\n",
       "      <td>0.609063</td>\n",
       "      <td>0.217742</td>\n",
       "      <td>0.510994</td>\n",
       "    </tr>\n",
       "  </tbody>\n",
       "</table>\n",
       "</div>"
      ],
      "text/plain": [
       "         TV     Radio  Newspaper\n",
       "0  0.775786  0.762097   0.605981\n",
       "1  0.148123  0.792339   0.394019\n",
       "2  0.055800  0.925403   0.606860\n",
       "3  0.509976  0.832661   0.511873\n",
       "4  0.609063  0.217742   0.510994"
      ]
     },
     "execution_count": 71,
     "metadata": {},
     "output_type": "execute_result"
    }
   ],
   "source": [
    "scaled_data.head(5)"
   ]
  },
  {
   "cell_type": "code",
   "execution_count": 56,
   "id": "7810acc4-76e9-42d4-8bf5-c91b395c55a9",
   "metadata": {},
   "outputs": [],
   "source": [
    "from sklearn.pipeline import Pipeline"
   ]
  },
  {
   "cell_type": "code",
   "execution_count": null,
   "id": "fe652715-08e1-41b4-85bc-13a25887c49c",
   "metadata": {},
   "outputs": [],
   "source": [
    "Pipeline()"
   ]
  }
 ],
 "metadata": {
  "kernelspec": {
   "display_name": "Python 3 (ipykernel)",
   "language": "python",
   "name": "python3"
  },
  "language_info": {
   "codemirror_mode": {
    "name": "ipython",
    "version": 3
   },
   "file_extension": ".py",
   "mimetype": "text/x-python",
   "name": "python",
   "nbconvert_exporter": "python",
   "pygments_lexer": "ipython3",
   "version": "3.13.1"
  }
 },
 "nbformat": 4,
 "nbformat_minor": 5
}
