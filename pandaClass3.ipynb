{
 "cells": [
  {
   "cell_type": "markdown",
   "id": "703b2d3c-6f02-4e22-8284-e8dd10d77e2c",
   "metadata": {
    "jp-MarkdownHeadingCollapsed": true
   },
   "source": [
    "# satart\n"
   ]
  },
  {
   "cell_type": "code",
   "execution_count": 26,
   "id": "197c6c75-efc4-4cf6-9442-266904d655c3",
   "metadata": {},
   "outputs": [
    {
     "data": {
      "text/html": [
       "<div>\n",
       "<style scoped>\n",
       "    .dataframe tbody tr th:only-of-type {\n",
       "        vertical-align: middle;\n",
       "    }\n",
       "\n",
       "    .dataframe tbody tr th {\n",
       "        vertical-align: top;\n",
       "    }\n",
       "\n",
       "    .dataframe thead th {\n",
       "        text-align: right;\n",
       "    }\n",
       "</style>\n",
       "<table border=\"1\" class=\"dataframe\">\n",
       "  <thead>\n",
       "    <tr style=\"text-align: right;\">\n",
       "      <th></th>\n",
       "      <th>Date(UTC)</th>\n",
       "      <th>Pair</th>\n",
       "      <th>Base Asset</th>\n",
       "      <th>Quote Asset</th>\n",
       "      <th>Type</th>\n",
       "      <th>Price</th>\n",
       "      <th>Amount</th>\n",
       "      <th>Total</th>\n",
       "      <th>Fee</th>\n",
       "      <th>Fee Coin</th>\n",
       "    </tr>\n",
       "  </thead>\n",
       "  <tbody>\n",
       "    <tr>\n",
       "      <th>0</th>\n",
       "      <td>2025-01-13 09:33:22</td>\n",
       "      <td>PHB/USDT</td>\n",
       "      <td>PHB</td>\n",
       "      <td>USDT</td>\n",
       "      <td>BUY</td>\n",
       "      <td>1.259000</td>\n",
       "      <td>11.3000</td>\n",
       "      <td>14.226700</td>\n",
       "      <td>0.011300</td>\n",
       "      <td>PHB</td>\n",
       "    </tr>\n",
       "    <tr>\n",
       "      <th>1</th>\n",
       "      <td>2025-01-09 13:51:35</td>\n",
       "      <td>SEI/USDT</td>\n",
       "      <td>SEI</td>\n",
       "      <td>USDT</td>\n",
       "      <td>BUY</td>\n",
       "      <td>0.372800</td>\n",
       "      <td>40.2000</td>\n",
       "      <td>14.986560</td>\n",
       "      <td>0.040200</td>\n",
       "      <td>SEI</td>\n",
       "    </tr>\n",
       "    <tr>\n",
       "      <th>2</th>\n",
       "      <td>2024-12-19 17:52:56</td>\n",
       "      <td>TAO/USDT</td>\n",
       "      <td>TAO</td>\n",
       "      <td>USDT</td>\n",
       "      <td>BUY</td>\n",
       "      <td>451.900000</td>\n",
       "      <td>0.0221</td>\n",
       "      <td>9.986990</td>\n",
       "      <td>0.000022</td>\n",
       "      <td>TAO</td>\n",
       "    </tr>\n",
       "    <tr>\n",
       "      <th>3</th>\n",
       "      <td>2024-12-18 03:52:27</td>\n",
       "      <td>AR/USDT</td>\n",
       "      <td>AR</td>\n",
       "      <td>USDT</td>\n",
       "      <td>BUY</td>\n",
       "      <td>19.940000</td>\n",
       "      <td>0.5000</td>\n",
       "      <td>9.970000</td>\n",
       "      <td>0.000500</td>\n",
       "      <td>AR</td>\n",
       "    </tr>\n",
       "    <tr>\n",
       "      <th>4</th>\n",
       "      <td>2024-12-17 22:38:03</td>\n",
       "      <td>PUNDIX/USDT</td>\n",
       "      <td>PUNDIX</td>\n",
       "      <td>USDT</td>\n",
       "      <td>BUY</td>\n",
       "      <td>0.503700</td>\n",
       "      <td>19.8000</td>\n",
       "      <td>9.973260</td>\n",
       "      <td>0.019800</td>\n",
       "      <td>PUNDIX</td>\n",
       "    </tr>\n",
       "    <tr>\n",
       "      <th>...</th>\n",
       "      <td>...</td>\n",
       "      <td>...</td>\n",
       "      <td>...</td>\n",
       "      <td>...</td>\n",
       "      <td>...</td>\n",
       "      <td>...</td>\n",
       "      <td>...</td>\n",
       "      <td>...</td>\n",
       "      <td>...</td>\n",
       "      <td>...</td>\n",
       "    </tr>\n",
       "    <tr>\n",
       "      <th>140</th>\n",
       "      <td>2024-09-06 12:36:52</td>\n",
       "      <td>DATA/USDT</td>\n",
       "      <td>DATA</td>\n",
       "      <td>USDT</td>\n",
       "      <td>BUY</td>\n",
       "      <td>0.039240</td>\n",
       "      <td>57.0000</td>\n",
       "      <td>2.236680</td>\n",
       "      <td>0.057000</td>\n",
       "      <td>DATA</td>\n",
       "    </tr>\n",
       "    <tr>\n",
       "      <th>141</th>\n",
       "      <td>2024-09-06 12:36:52</td>\n",
       "      <td>DATA/USDT</td>\n",
       "      <td>DATA</td>\n",
       "      <td>USDT</td>\n",
       "      <td>BUY</td>\n",
       "      <td>0.039230</td>\n",
       "      <td>227.5000</td>\n",
       "      <td>8.924825</td>\n",
       "      <td>0.227500</td>\n",
       "      <td>DATA</td>\n",
       "    </tr>\n",
       "    <tr>\n",
       "      <th>142</th>\n",
       "      <td>2024-09-05 10:08:48</td>\n",
       "      <td>ARB/USDT</td>\n",
       "      <td>ARB</td>\n",
       "      <td>USDT</td>\n",
       "      <td>BUY</td>\n",
       "      <td>0.494200</td>\n",
       "      <td>10.1000</td>\n",
       "      <td>4.991420</td>\n",
       "      <td>0.010100</td>\n",
       "      <td>ARB</td>\n",
       "    </tr>\n",
       "    <tr>\n",
       "      <th>143</th>\n",
       "      <td>2024-09-04 16:07:54</td>\n",
       "      <td>RSR/USDT</td>\n",
       "      <td>RSR</td>\n",
       "      <td>USDT</td>\n",
       "      <td>BUY</td>\n",
       "      <td>0.005023</td>\n",
       "      <td>995.4000</td>\n",
       "      <td>4.999894</td>\n",
       "      <td>0.995400</td>\n",
       "      <td>RSR</td>\n",
       "    </tr>\n",
       "    <tr>\n",
       "      <th>144</th>\n",
       "      <td>2024-09-03 07:13:51</td>\n",
       "      <td>RSR/USDT</td>\n",
       "      <td>RSR</td>\n",
       "      <td>USDT</td>\n",
       "      <td>BUY</td>\n",
       "      <td>0.005237</td>\n",
       "      <td>1144.8000</td>\n",
       "      <td>5.995318</td>\n",
       "      <td>1.144800</td>\n",
       "      <td>RSR</td>\n",
       "    </tr>\n",
       "  </tbody>\n",
       "</table>\n",
       "<p>145 rows × 10 columns</p>\n",
       "</div>"
      ],
      "text/plain": [
       "               Date(UTC)         Pair Base Asset Quote Asset Type       Price  \\\n",
       "0    2025-01-13 09:33:22     PHB/USDT        PHB        USDT  BUY    1.259000   \n",
       "1    2025-01-09 13:51:35     SEI/USDT        SEI        USDT  BUY    0.372800   \n",
       "2    2024-12-19 17:52:56     TAO/USDT        TAO        USDT  BUY  451.900000   \n",
       "3    2024-12-18 03:52:27      AR/USDT         AR        USDT  BUY   19.940000   \n",
       "4    2024-12-17 22:38:03  PUNDIX/USDT     PUNDIX        USDT  BUY    0.503700   \n",
       "..                   ...          ...        ...         ...  ...         ...   \n",
       "140  2024-09-06 12:36:52    DATA/USDT       DATA        USDT  BUY    0.039240   \n",
       "141  2024-09-06 12:36:52    DATA/USDT       DATA        USDT  BUY    0.039230   \n",
       "142  2024-09-05 10:08:48     ARB/USDT        ARB        USDT  BUY    0.494200   \n",
       "143  2024-09-04 16:07:54     RSR/USDT        RSR        USDT  BUY    0.005023   \n",
       "144  2024-09-03 07:13:51     RSR/USDT        RSR        USDT  BUY    0.005237   \n",
       "\n",
       "        Amount      Total       Fee Fee Coin  \n",
       "0      11.3000  14.226700  0.011300      PHB  \n",
       "1      40.2000  14.986560  0.040200      SEI  \n",
       "2       0.0221   9.986990  0.000022      TAO  \n",
       "3       0.5000   9.970000  0.000500       AR  \n",
       "4      19.8000   9.973260  0.019800   PUNDIX  \n",
       "..         ...        ...       ...      ...  \n",
       "140    57.0000   2.236680  0.057000     DATA  \n",
       "141   227.5000   8.924825  0.227500     DATA  \n",
       "142    10.1000   4.991420  0.010100      ARB  \n",
       "143   995.4000   4.999894  0.995400      RSR  \n",
       "144  1144.8000   5.995318  1.144800      RSR  \n",
       "\n",
       "[145 rows x 10 columns]"
      ]
     },
     "execution_count": 26,
     "metadata": {},
     "output_type": "execute_result"
    }
   ],
   "source": [
    "import pandas as pd \n",
    "import seaborn as sns\n",
    "data = pd.read_csv(\"data.csv\")\n",
    "emp = pd.read_csv(\"Employee.csv\")\n",
    "trade = pd.read_csv(\"trade.cs\")\n",
    "trade"
   ]
  },
  {
   "cell_type": "code",
   "execution_count": null,
   "id": "6a45d465-84f8-423a-a8b3-2217d27f6e62",
   "metadata": {},
   "outputs": [],
   "source": []
  },
  {
   "cell_type": "code",
   "execution_count": 41,
   "id": "e37eb3d1-0a8e-44f0-a96d-960a6b90ed26",
   "metadata": {},
   "outputs": [
    {
     "data": {
      "text/plain": [
       "<Axes: xlabel='Amount', ylabel='Count'>"
      ]
     },
     "execution_count": 41,
     "metadata": {},
     "output_type": "execute_result"
    },
    {
     "data": {
      "image/png": "[encoded data removed]",
      "text/plain": [
       "<Figure size 640x480 with 1 Axes>"
      ]
     },
     "metadata": {},
     "output_type": "display_data"
    }
   ],
   "source": [
    "sns.histplot(trade.Amount)"
   ]
  },
  {
   "cell_type": "code",
   "execution_count": 39,
   "id": "d85e81db-d91b-48c8-ba12-4caec62b0b8a",
   "metadata": {},
   "outputs": [
    {
     "data": {
      "text/plain": [
       "<Axes: xlabel='Total', ylabel='Count'>"
      ]
     },
     "execution_count": 39,
     "metadata": {},
     "output_type": "execute_result"
    },
    {
     "data": {
      "image/png": "[encoded data removed]",
      "text/plain": [
       "<Figure size 640x480 with 1 Axes>"
      ]
     },
     "metadata": {},
     "output_type": "display_data"
    }
   ],
   "source": [
    "sns.histplot(trade.Total)"
   ]
  },
  {
   "cell_type": "markdown",
   "id": "7518a56f-3b01-47fc-88a3-dc57bdacc9f4",
   "metadata": {},
   "source": [
    "## hisplot\n"
   ]
  },
  {
   "cell_type": "code",
   "execution_count": 37,
   "id": "a9a13e36-0cfd-41b7-8f1f-b90eae3207b9",
   "metadata": {},
   "outputs": [
    {
     "data": {
      "text/plain": [
       "<Axes: xlabel='Age', ylabel='Count'>"
      ]
     },
     "execution_count": 37,
     "metadata": {},
     "output_type": "execute_result"
    },
    {
     "data": {
      "image/png": "[encoded data removed]",
      "text/plain": [
       "<Figure size 640x480 with 1 Axes>"
      ]
     },
     "metadata": {},
     "output_type": "display_data"
    }
   ],
   "source": [
    "sns.histplot(emp.Age)"
   ]
  },
  {
   "cell_type": "markdown",
   "id": "b4340a8b-dd51-45dc-ba3c-b84ee7c50f70",
   "metadata": {},
   "source": [
    "## barplot\n",
    "\n"
   ]
  },
  {
   "cell_type": "code",
   "execution_count": 17,
   "id": "3590d61b-4f1d-4dec-b841-11d4cd08a85c",
   "metadata": {},
   "outputs": [
    {
     "data": {
      "text/plain": [
       "<Axes: xlabel='Designation', ylabel='count'>"
      ]
     },
     "execution_count": 17,
     "metadata": {},
     "output_type": "execute_result"
    },
    {
     "data": {
      "image/png": "[encoded data removed]",
      "text/plain": [
       "<Figure size 640x480 with 1 Axes>"
      ]
     },
     "metadata": {},
     "output_type": "display_data"
    }
   ],
   "source": [
    "sns.barplot(desig_freq)"
   ]
  },
  {
   "cell_type": "markdown",
   "id": "79ae047a-6812-45d7-baea-c6978da3c1c7",
   "metadata": {},
   "source": [
    "# average salary of aged more than 50"
   ]
  },
  {
   "cell_type": "code",
   "execution_count": 104,
   "id": "26b255fb-a2e6-4d68-a85f-3743ac7b15ec",
   "metadata": {},
   "outputs": [
    {
     "data": {
      "text/html": [
       "<div>\n",
       "<style scoped>\n",
       "    .dataframe tbody tr th:only-of-type {\n",
       "        vertical-align: middle;\n",
       "    }\n",
       "\n",
       "    .dataframe tbody tr th {\n",
       "        vertical-align: top;\n",
       "    }\n",
       "\n",
       "    .dataframe thead th {\n",
       "        text-align: right;\n",
       "    }\n",
       "</style>\n",
       "<table border=\"1\" class=\"dataframe\">\n",
       "  <thead>\n",
       "    <tr style=\"text-align: right;\">\n",
       "      <th></th>\n",
       "      <th>Serial</th>\n",
       "      <th>Emp_ID</th>\n",
       "      <th>Designation</th>\n",
       "      <th>Department</th>\n",
       "      <th>Age</th>\n",
       "      <th>Salary</th>\n",
       "      <th>Floor</th>\n",
       "    </tr>\n",
       "  </thead>\n",
       "  <tbody>\n",
       "    <tr>\n",
       "      <th>0</th>\n",
       "      <td>1</td>\n",
       "      <td>1101</td>\n",
       "      <td>Manager</td>\n",
       "      <td>Accounts</td>\n",
       "      <td>50.0</td>\n",
       "      <td>200000.0</td>\n",
       "      <td>3</td>\n",
       "    </tr>\n",
       "    <tr>\n",
       "      <th>1</th>\n",
       "      <td>2</td>\n",
       "      <td>1107</td>\n",
       "      <td>Officer</td>\n",
       "      <td>IT</td>\n",
       "      <td>30.0</td>\n",
       "      <td>80000.0</td>\n",
       "      <td>4</td>\n",
       "    </tr>\n",
       "    <tr>\n",
       "      <th>2</th>\n",
       "      <td>3</td>\n",
       "      <td>1203</td>\n",
       "      <td>Officer</td>\n",
       "      <td>HR</td>\n",
       "      <td>28.0</td>\n",
       "      <td>NaN</td>\n",
       "      <td>5</td>\n",
       "    </tr>\n",
       "    <tr>\n",
       "      <th>3</th>\n",
       "      <td>4</td>\n",
       "      <td>1005</td>\n",
       "      <td>Manager</td>\n",
       "      <td>HR</td>\n",
       "      <td>45.0</td>\n",
       "      <td>120000.0</td>\n",
       "      <td>7</td>\n",
       "    </tr>\n",
       "    <tr>\n",
       "      <th>4</th>\n",
       "      <td>5</td>\n",
       "      <td>2123</td>\n",
       "      <td>Office Boy</td>\n",
       "      <td>Accounts</td>\n",
       "      <td>27.0</td>\n",
       "      <td>45000.0</td>\n",
       "      <td>9</td>\n",
       "    </tr>\n",
       "    <tr>\n",
       "      <th>5</th>\n",
       "      <td>6</td>\n",
       "      <td>2451</td>\n",
       "      <td>Accountant</td>\n",
       "      <td>NaN</td>\n",
       "      <td>34.0</td>\n",
       "      <td>100000.0</td>\n",
       "      <td>4</td>\n",
       "    </tr>\n",
       "    <tr>\n",
       "      <th>6</th>\n",
       "      <td>7</td>\n",
       "      <td>1111</td>\n",
       "      <td>Accountant</td>\n",
       "      <td>Accounts</td>\n",
       "      <td>NaN</td>\n",
       "      <td>110000.0</td>\n",
       "      <td>1</td>\n",
       "    </tr>\n",
       "    <tr>\n",
       "      <th>7</th>\n",
       "      <td>8</td>\n",
       "      <td>1001</td>\n",
       "      <td>Officer</td>\n",
       "      <td>IT</td>\n",
       "      <td>25.0</td>\n",
       "      <td>75000.0</td>\n",
       "      <td>35</td>\n",
       "    </tr>\n",
       "    <tr>\n",
       "      <th>8</th>\n",
       "      <td>9</td>\n",
       "      <td>1234</td>\n",
       "      <td>Manager</td>\n",
       "      <td>IT</td>\n",
       "      <td>23.0</td>\n",
       "      <td>NaN</td>\n",
       "      <td>10</td>\n",
       "    </tr>\n",
       "    <tr>\n",
       "      <th>9</th>\n",
       "      <td>10</td>\n",
       "      <td>2156</td>\n",
       "      <td>Engineer</td>\n",
       "      <td>Production</td>\n",
       "      <td>45.0</td>\n",
       "      <td>89000.0</td>\n",
       "      <td>9</td>\n",
       "    </tr>\n",
       "    <tr>\n",
       "      <th>10</th>\n",
       "      <td>11</td>\n",
       "      <td>6543</td>\n",
       "      <td>Officer</td>\n",
       "      <td>Production</td>\n",
       "      <td>29.0</td>\n",
       "      <td>100000.0</td>\n",
       "      <td>4</td>\n",
       "    </tr>\n",
       "    <tr>\n",
       "      <th>11</th>\n",
       "      <td>12</td>\n",
       "      <td>3214</td>\n",
       "      <td>Accountant</td>\n",
       "      <td>Account</td>\n",
       "      <td>49.0</td>\n",
       "      <td>123000.0</td>\n",
       "      <td>5</td>\n",
       "    </tr>\n",
       "    <tr>\n",
       "      <th>12</th>\n",
       "      <td>13</td>\n",
       "      <td>2156</td>\n",
       "      <td>Engineer</td>\n",
       "      <td>Production</td>\n",
       "      <td>45.0</td>\n",
       "      <td>89000.0</td>\n",
       "      <td>34</td>\n",
       "    </tr>\n",
       "    <tr>\n",
       "      <th>13</th>\n",
       "      <td>14</td>\n",
       "      <td>1098</td>\n",
       "      <td>Officer</td>\n",
       "      <td>IT</td>\n",
       "      <td>25.0</td>\n",
       "      <td>100000.0</td>\n",
       "      <td>10</td>\n",
       "    </tr>\n",
       "    <tr>\n",
       "      <th>14</th>\n",
       "      <td>15</td>\n",
       "      <td>2912</td>\n",
       "      <td>Officer</td>\n",
       "      <td>IT</td>\n",
       "      <td>31.0</td>\n",
       "      <td>90000.0</td>\n",
       "      <td>54</td>\n",
       "    </tr>\n",
       "    <tr>\n",
       "      <th>15</th>\n",
       "      <td>16</td>\n",
       "      <td>1222</td>\n",
       "      <td>Officer</td>\n",
       "      <td>NaN</td>\n",
       "      <td>25.0</td>\n",
       "      <td>NaN</td>\n",
       "      <td>6</td>\n",
       "    </tr>\n",
       "    <tr>\n",
       "      <th>16</th>\n",
       "      <td>17</td>\n",
       "      <td>2156</td>\n",
       "      <td>Engineer</td>\n",
       "      <td>Production</td>\n",
       "      <td>45.0</td>\n",
       "      <td>89000.0</td>\n",
       "      <td>8</td>\n",
       "    </tr>\n",
       "    <tr>\n",
       "      <th>17</th>\n",
       "      <td>18</td>\n",
       "      <td>2123</td>\n",
       "      <td>Office Boy</td>\n",
       "      <td>Accounts</td>\n",
       "      <td>27.0</td>\n",
       "      <td>45000.0</td>\n",
       "      <td>10</td>\n",
       "    </tr>\n",
       "  </tbody>\n",
       "</table>\n",
       "</div>"
      ],
      "text/plain": [
       "    Serial  Emp_ID Designation  Department   Age    Salary  Floor\n",
       "0        1    1101     Manager    Accounts  50.0  200000.0      3\n",
       "1        2    1107     Officer          IT  30.0   80000.0      4\n",
       "2        3    1203     Officer          HR  28.0       NaN      5\n",
       "3        4    1005     Manager          HR  45.0  120000.0      7\n",
       "4        5    2123  Office Boy    Accounts  27.0   45000.0      9\n",
       "5        6    2451  Accountant         NaN  34.0  100000.0      4\n",
       "6        7    1111  Accountant    Accounts   NaN  110000.0      1\n",
       "7        8    1001     Officer          IT  25.0   75000.0     35\n",
       "8        9    1234     Manager          IT  23.0       NaN     10\n",
       "9       10    2156    Engineer  Production  45.0   89000.0      9\n",
       "10      11    6543     Officer  Production  29.0  100000.0      4\n",
       "11      12    3214  Accountant     Account  49.0  123000.0      5\n",
       "12      13    2156    Engineer  Production  45.0   89000.0     34\n",
       "13      14    1098     Officer          IT  25.0  100000.0     10\n",
       "14      15    2912     Officer          IT  31.0   90000.0     54\n",
       "15      16    1222     Officer         NaN  25.0       NaN      6\n",
       "16      17    2156    Engineer  Production  45.0   89000.0      8\n",
       "17      18    2123  Office Boy    Accounts  27.0   45000.0     10"
      ]
     },
     "execution_count": 104,
     "metadata": {},
     "output_type": "execute_result"
    }
   ],
   "source": [
    "emp\n"
   ]
  },
  {
   "cell_type": "code",
   "execution_count": 103,
   "id": "fdf18e67-3f50-4935-91e9-b8d29ae9a52f",
   "metadata": {},
   "outputs": [
    {
     "data": {
      "text/html": [
       "<div>\n",
       "<style scoped>\n",
       "    .dataframe tbody tr th:only-of-type {\n",
       "        vertical-align: middle;\n",
       "    }\n",
       "\n",
       "    .dataframe tbody tr th {\n",
       "        vertical-align: top;\n",
       "    }\n",
       "\n",
       "    .dataframe thead th {\n",
       "        text-align: right;\n",
       "    }\n",
       "</style>\n",
       "<table border=\"1\" class=\"dataframe\">\n",
       "  <thead>\n",
       "    <tr style=\"text-align: right;\">\n",
       "      <th></th>\n",
       "      <th>Floor</th>\n",
       "      <th>Designation</th>\n",
       "    </tr>\n",
       "  </thead>\n",
       "  <tbody>\n",
       "    <tr>\n",
       "      <th>4</th>\n",
       "      <td>9</td>\n",
       "      <td>Office Boy</td>\n",
       "    </tr>\n",
       "    <tr>\n",
       "      <th>17</th>\n",
       "      <td>10</td>\n",
       "      <td>Office Boy</td>\n",
       "    </tr>\n",
       "  </tbody>\n",
       "</table>\n",
       "</div>"
      ],
      "text/plain": [
       "    Floor Designation\n",
       "4       9  Office Boy\n",
       "17     10  Office Boy"
      ]
     },
     "execution_count": 103,
     "metadata": {},
     "output_type": "execute_result"
    }
   ],
   "source": [
    "emp[emp.Designation == \"Office Boy\"][[\"Floor\",\"Designation\"]]"
   ]
  },
  {
   "cell_type": "code",
   "execution_count": 99,
   "id": "d9e32b8a-5c9f-4e65-85ed-e4bbe3479313",
   "metadata": {},
   "outputs": [
    {
     "data": {
      "text/html": [
       "<div>\n",
       "<style scoped>\n",
       "    .dataframe tbody tr th:only-of-type {\n",
       "        vertical-align: middle;\n",
       "    }\n",
       "\n",
       "    .dataframe tbody tr th {\n",
       "        vertical-align: top;\n",
       "    }\n",
       "\n",
       "    .dataframe thead th {\n",
       "        text-align: right;\n",
       "    }\n",
       "</style>\n",
       "<table border=\"1\" class=\"dataframe\">\n",
       "  <thead>\n",
       "    <tr style=\"text-align: right;\">\n",
       "      <th></th>\n",
       "      <th>Serial</th>\n",
       "      <th>Emp_ID</th>\n",
       "      <th>Designation</th>\n",
       "      <th>Department</th>\n",
       "      <th>Age</th>\n",
       "      <th>Salary</th>\n",
       "      <th>Floor</th>\n",
       "    </tr>\n",
       "  </thead>\n",
       "  <tbody>\n",
       "    <tr>\n",
       "      <th>17</th>\n",
       "      <td>18</td>\n",
       "      <td>2123</td>\n",
       "      <td>Office Boy</td>\n",
       "      <td>Accounts</td>\n",
       "      <td>27.0</td>\n",
       "      <td>45000.0</td>\n",
       "      <td>10</td>\n",
       "    </tr>\n",
       "  </tbody>\n",
       "</table>\n",
       "</div>"
      ],
      "text/plain": [
       "    Serial  Emp_ID Designation Department   Age   Salary  Floor\n",
       "17      18    2123  Office Boy   Accounts  27.0  45000.0     10"
      ]
     },
     "execution_count": 99,
     "metadata": {},
     "output_type": "execute_result"
    }
   ],
   "source": [
    "emp[(emp.Floor == 10) & (emp.Designation == \"Office Boy\")]"
   ]
  },
  {
   "cell_type": "code",
   "execution_count": 93,
   "id": "b1d5b71e-555c-4a40-9b1e-90f004e0d1b3",
   "metadata": {},
   "outputs": [],
   "source": [
    "import random as random\n",
    "emp[\"Floor\"] =[3,4,5,7,9,4,1,35,10,9,4,5,34,10,54,6,8,10]"
   ]
  },
  {
   "cell_type": "code",
   "execution_count": 91,
   "id": "00afd2e0-a7dd-41f7-bfd8-c86c0e71ac31",
   "metadata": {},
   "outputs": [
    {
     "data": {
      "text/html": [
       "<div>\n",
       "<style scoped>\n",
       "    .dataframe tbody tr th:only-of-type {\n",
       "        vertical-align: middle;\n",
       "    }\n",
       "\n",
       "    .dataframe tbody tr th {\n",
       "        vertical-align: top;\n",
       "    }\n",
       "\n",
       "    .dataframe thead th {\n",
       "        text-align: right;\n",
       "    }\n",
       "</style>\n",
       "<table border=\"1\" class=\"dataframe\">\n",
       "  <thead>\n",
       "    <tr style=\"text-align: right;\">\n",
       "      <th></th>\n",
       "      <th>Serial</th>\n",
       "      <th>Emp_ID</th>\n",
       "      <th>Designation</th>\n",
       "      <th>Department</th>\n",
       "      <th>Age</th>\n",
       "      <th>Salary</th>\n",
       "      <th>Floor</th>\n",
       "    </tr>\n",
       "  </thead>\n",
       "  <tbody>\n",
       "  </tbody>\n",
       "</table>\n",
       "</div>"
      ],
      "text/plain": [
       "Empty DataFrame\n",
       "Columns: [Serial, Emp_ID, Designation, Department, Age, Salary, Floor]\n",
       "Index: []"
      ]
     },
     "execution_count": 91,
     "metadata": {},
     "output_type": "execute_result"
    }
   ],
   "source": [
    "emp[emp.Floor == \"10\"]"
   ]
  },
  {
   "cell_type": "code",
   "execution_count": 76,
   "id": "97b1df71-2f20-42e8-a5d0-52985c4109ec",
   "metadata": {},
   "outputs": [
    {
     "data": {
      "text/plain": [
       "np.int64(0)"
      ]
     },
     "execution_count": 76,
     "metadata": {},
     "output_type": "execute_result"
    }
   ],
   "source": [
    " emp[(emp.Department == \"IT\") & (emp.Designation == \"Office Boy\")][\"Emp_ID\"].count()"
   ]
  },
  {
   "cell_type": "code",
   "execution_count": 66,
   "id": "e603cdc2-ac95-418c-a6fd-dff70a991b2a",
   "metadata": {},
   "outputs": [
    {
     "data": {
      "text/plain": [
       "np.float64(200000.0)"
      ]
     },
     "execution_count": 66,
     "metadata": {},
     "output_type": "execute_result"
    }
   ],
   "source": [
    "emp[emp.Age>=50][\"Salary\"].mean()"
   ]
  },
  {
   "cell_type": "code",
   "execution_count": 56,
   "id": "bfed3c44-f0a5-4a65-afa2-ddd797ac5d5a",
   "metadata": {},
   "outputs": [
    {
     "data": {
      "text/plain": [
       "array(['Manager', 'Officer', 'Office Boy', 'Accountant', 'Engineer'],\n",
       "      dtype=object)"
      ]
     },
     "execution_count": 56,
     "metadata": {},
     "output_type": "execute_result"
    }
   ],
   "source": [
    "emp.Designation.unique()"
   ]
  },
  {
   "cell_type": "code",
   "execution_count": 62,
   "id": "9c2c4a15-a6c7-4e1b-a3c2-f62cf14348e0",
   "metadata": {},
   "outputs": [
    {
     "data": {
      "text/plain": [
       "np.float64(89000.0)"
      ]
     },
     "execution_count": 62,
     "metadata": {},
     "output_type": "execute_result"
    }
   ],
   "source": [
    "#average salary of officer \n",
    "emp[emp.Designation == \"Officer\"][\"Salary\"].mean()"
   ]
  },
  {
   "cell_type": "code",
   "execution_count": 50,
   "id": "04eba0f7-a997-4a8c-a271-6779a38e3827",
   "metadata": {},
   "outputs": [
    {
     "data": {
      "text/html": [
       "<div>\n",
       "<style scoped>\n",
       "    .dataframe tbody tr th:only-of-type {\n",
       "        vertical-align: middle;\n",
       "    }\n",
       "\n",
       "    .dataframe tbody tr th {\n",
       "        vertical-align: top;\n",
       "    }\n",
       "\n",
       "    .dataframe thead th {\n",
       "        text-align: right;\n",
       "    }\n",
       "</style>\n",
       "<table border=\"1\" class=\"dataframe\">\n",
       "  <thead>\n",
       "    <tr style=\"text-align: right;\">\n",
       "      <th></th>\n",
       "      <th>Emp_ID</th>\n",
       "      <th>Designation</th>\n",
       "    </tr>\n",
       "  </thead>\n",
       "  <tbody>\n",
       "    <tr>\n",
       "      <th>0</th>\n",
       "      <td>1101</td>\n",
       "      <td>Manager</td>\n",
       "    </tr>\n",
       "  </tbody>\n",
       "</table>\n",
       "</div>"
      ],
      "text/plain": [
       "   Emp_ID Designation\n",
       "0    1101     Manager"
      ]
     },
     "execution_count": 50,
     "metadata": {},
     "output_type": "execute_result"
    }
   ],
   "source": [
    "#who has max salary in data\n",
    "emp[emp.Salary == emp.Salary.max() ][[\"Emp_ID\",\"Designation\"]]"
   ]
  },
  {
   "cell_type": "code",
   "execution_count": 45,
   "id": "d0e8a7e2-0119-465a-a1ff-18ceb3e54c97",
   "metadata": {},
   "outputs": [
    {
     "data": {
      "text/plain": [
       "np.float64(200000.0)"
      ]
     },
     "execution_count": 45,
     "metadata": {},
     "output_type": "execute_result"
    }
   ],
   "source": [
    "emp.Salary.max()"
   ]
  },
  {
   "cell_type": "code",
   "execution_count": 22,
   "id": "b0b8d61f-e9e2-4605-a447-4f2319eb8d5c",
   "metadata": {},
   "outputs": [
    {
     "data": {
      "text/plain": [
       "Department\n",
       "IT            5\n",
       "Accounts      4\n",
       "Production    4\n",
       "HR            2\n",
       "Account       1\n",
       "Name: count, dtype: int64"
      ]
     },
     "execution_count": 22,
     "metadata": {},
     "output_type": "execute_result"
    }
   ],
   "source": [
    "emp.Department.value_counts()"
   ]
  },
  {
   "cell_type": "code",
   "execution_count": 36,
   "id": "c9b089a1-23ef-45e2-a6bc-6d2ebdcb6f15",
   "metadata": {},
   "outputs": [
    {
     "data": {
      "text/plain": [
       "array(<bound method IndexOpsMixin.value_counts of 0     50.0\n",
       "1     30.0\n",
       "2     28.0\n",
       "3     45.0\n",
       "4     27.0\n",
       "5     34.0\n",
       "6      NaN\n",
       "7     25.0\n",
       "8     23.0\n",
       "9     45.0\n",
       "10    29.0\n",
       "11    49.0\n",
       "12    45.0\n",
       "13    25.0\n",
       "14    31.0\n",
       "15    25.0\n",
       "16    45.0\n",
       "17    27.0\n",
       "Name: Age, dtype: float64>, dtype=object)"
      ]
     },
     "execution_count": 36,
     "metadata": {},
     "output_type": "execute_result"
    }
   ],
   "source": [
    "import numpy as np\n",
    "\n",
    "age =  np.array(emp.Age.value_counts)\n",
    "age\n"
   ]
  },
  {
   "cell_type": "markdown",
   "id": "ed561c84-4de5-4af7-932e-e1594c523fcc",
   "metadata": {
    "jp-MarkdownHeadingCollapsed": true
   },
   "source": [
    "# EDA   exporatory data analysis \n",
    "### value Count\n",
    "    "
   ]
  },
  {
   "cell_type": "code",
   "execution_count": 14,
   "id": "114b577b-6265-42e3-ac5c-e3940ae172fb",
   "metadata": {},
   "outputs": [
    {
     "data": {
      "text/plain": [
       "Designation\n",
       "Officer       7\n",
       "Manager       3\n",
       "Accountant    3\n",
       "Engineer      3\n",
       "Office Boy    2\n",
       "Name: count, dtype: int64"
      ]
     },
     "execution_count": 14,
     "metadata": {},
     "output_type": "execute_result"
    }
   ],
   "source": [
    "desig_freq = emp.Designation.value_counts()\n",
    "desig_freq"
   ]
  },
  {
   "cell_type": "markdown",
   "id": "56f9e030-a21b-4982-93a1-1780bdcad7ad",
   "metadata": {
    "jp-MarkdownHeadingCollapsed": true
   },
   "source": [
    "## series have index value\n"
   ]
  },
  {
   "cell_type": "code",
   "execution_count": 9,
   "id": "9eae622f-c75d-4f9e-9e70-15f3503a95a6",
   "metadata": {},
   "outputs": [
    {
     "data": {
      "text/plain": [
       "pandas.core.series.Series"
      ]
     },
     "execution_count": 9,
     "metadata": {},
     "output_type": "execute_result"
    }
   ],
   "source": [
    "type(desig_freq)\n"
   ]
  },
  {
   "cell_type": "code",
   "execution_count": 10,
   "id": "2baca1a2-6491-4fe8-9329-1c0fa97c1083",
   "metadata": {},
   "outputs": [
    {
     "data": {
      "text/plain": [
       "Index(['Officer', 'Manager', 'Accountant', 'Engineer', 'Office Boy'], dtype='object', name='Designation')"
      ]
     },
     "execution_count": 10,
     "metadata": {},
     "output_type": "execute_result"
    }
   ],
   "source": [
    "desig_freq.index"
   ]
  },
  {
   "cell_type": "code",
   "execution_count": 13,
   "id": "713657ad-8a29-4626-b702-fb788cb191d1",
   "metadata": {},
   "outputs": [
    {
     "data": {
      "text/plain": [
       "array([7, 3, 3, 3, 2])"
      ]
     },
     "execution_count": 13,
     "metadata": {},
     "output_type": "execute_result"
    }
   ],
   "source": [
    "desig_freq.values"
   ]
  },
  {
   "cell_type": "code",
   "execution_count": null,
   "id": "fa27ed8e-a9a0-42e9-a092-65db84bbc959",
   "metadata": {},
   "outputs": [],
   "source": [
    "sns.boxplot(data.Calories)"
   ]
  },
  {
   "cell_type": "code",
   "execution_count": null,
   "id": "e82f8517-8749-4264-84e4-698c7f039c2c",
   "metadata": {},
   "outputs": [],
   "source": [
    "data.Calories.min()"
   ]
  },
  {
   "cell_type": "code",
   "execution_count": null,
   "id": "00064367-6e1f-4936-8a9d-8e7dbc65eda9",
   "metadata": {},
   "outputs": [],
   "source": [
    "data.Duration.max()"
   ]
  },
  {
   "cell_type": "code",
   "execution_count": null,
   "id": "cbb7e352-553b-45a9-979c-e6128d2bd1ef",
   "metadata": {},
   "outputs": [],
   "source": [
    "data[\"Calories\"].quantile(0.50)"
   ]
  },
  {
   "cell_type": "code",
   "execution_count": null,
   "id": "6020d6ae-0ce6-4636-9f65-4c719094d1d5",
   "metadata": {},
   "outputs": [],
   "source": [
    "data[\"Calories\"].quantile(0.75)"
   ]
  },
  {
   "cell_type": "code",
   "execution_count": null,
   "id": "73dbd9d6-ff6b-4151-adfe-3c617cfb612d",
   "metadata": {},
   "outputs": [],
   "source": [
    "data[\"Calories\"].quantile(0.25)"
   ]
  },
  {
   "cell_type": "code",
   "execution_count": null,
   "id": "c294510a-b04e-4c99-a5b7-0886c5e80bf0",
   "metadata": {},
   "outputs": [],
   "source": [
    "data.describe()"
   ]
  },
  {
   "cell_type": "code",
   "execution_count": null,
   "id": "1070a5e7-fffe-4895-863b-084c8144c42f",
   "metadata": {},
   "outputs": [],
   "source": [
    "emp"
   ]
  }
 ],
 "metadata": {
  "kernelspec": {
   "display_name": "Python 3 (ipykernel)",
   "language": "python",
   "name": "python3"
  },
  "language_info": {
   "codemirror_mode": {
    "name": "ipython",
    "version": 3
   },
   "file_extension": ".py",
   "mimetype": "text/x-python",
   "name": "python",
   "nbconvert_exporter": "python",
   "pygments_lexer": "ipython3",
   "version": "3.13.1"
  }
 },
 "nbformat": 4,
 "nbformat_minor": 5
}
