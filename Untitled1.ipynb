{
 "cells": [
  {
   "cell_type": "code",
   "execution_count": 20,
   "id": "5741bf6f-d907-4489-a25a-86635f9b555a",
   "metadata": {},
   "outputs": [],
   "source": [
    "import numpy as np\n",
    "import pandas as pd\n",
    "##slicing"
   ]
  },
  {
   "cell_type": "code",
   "execution_count": 5,
   "id": "e6a3f44b-6e4e-4e44-84ff-03b7a9293190",
   "metadata": {},
   "outputs": [
    {
     "data": {
      "text/plain": [
       "array([24, 25, 26, 27, 28, 29, 30, 31])"
      ]
     },
     "execution_count": 5,
     "metadata": {},
     "output_type": "execute_result"
    }
   ],
   "source": [
    "arr2d[3]"
   ]
  },
  {
   "cell_type": "code",
   "execution_count": 6,
   "id": "36f41e9d-199f-4947-94b8-922d5e04ebb4",
   "metadata": {},
   "outputs": [
    {
     "data": {
      "text/plain": [
       "array([[ 5],\n",
       "       [13],\n",
       "       [21],\n",
       "       [29],\n",
       "       [37],\n",
       "       [45],\n",
       "       [53],\n",
       "       [61]])"
      ]
     },
     "execution_count": 6,
     "metadata": {},
     "output_type": "execute_result"
    }
   ],
   "source": [
    "arr2d[:,5:6]"
   ]
  },
  {
   "cell_type": "code",
   "execution_count": 9,
   "id": "753f7f8c-0f16-4372-a4c3-d59ec3326dec",
   "metadata": {},
   "outputs": [
    {
     "data": {
      "text/plain": [
       "array([[ 0,  2,  4,  6],\n",
       "       [16, 18, 20, 22],\n",
       "       [32, 34, 36, 38],\n",
       "       [48, 50, 52, 54]])"
      ]
     },
     "execution_count": 9,
     "metadata": {},
     "output_type": "execute_result"
    }
   ],
   "source": [
    "arr2d[::2,::2]"
   ]
  },
  {
   "cell_type": "code",
   "execution_count": 11,
   "id": "478cdbf4-0dcb-4f86-8fc5-506905f83728",
   "metadata": {},
   "outputs": [
    {
     "data": {
      "text/plain": [
       "array([[ 0,  3,  6],\n",
       "       [24, 27, 30],\n",
       "       [48, 51, 54]])"
      ]
     },
     "execution_count": 11,
     "metadata": {},
     "output_type": "execute_result"
    }
   ],
   "source": [
    "arr2d[::3,::3]"
   ]
  },
  {
   "cell_type": "code",
   "execution_count": 16,
   "id": "8cbd5b65-95f3-4b23-bfc9-6019486ffe15",
   "metadata": {},
   "outputs": [
    {
     "data": {
      "text/plain": [
       "array([[58],\n",
       "       [50],\n",
       "       [42],\n",
       "       [34],\n",
       "       [26],\n",
       "       [18],\n",
       "       [10],\n",
       "       [ 2]])"
      ]
     },
     "execution_count": 16,
     "metadata": {},
     "output_type": "execute_result"
    }
   ],
   "source": [
    "arr2d[::-1,2:3:]"
   ]
  },
  {
   "cell_type": "code",
   "execution_count": 4,
   "id": "aea69621-04c4-4ae7-9592-2c1cc581e0fa",
   "metadata": {},
   "outputs": [
    {
     "data": {
      "text/plain": [
       "array([[ 0,  1,  2,  3,  4,  5,  6,  7],\n",
       "       [ 8,  9, 10, 11, 12, 13, 14, 15],\n",
       "       [16, 17, 18, 19, 20, 21, 22, 23],\n",
       "       [24, 25, 26, 27, 28, 29, 30, 31],\n",
       "       [32, 33, 34, 35, 36, 37, 38, 39],\n",
       "       [40, 41, 42, 43, 44, 45, 46, 47],\n",
       "       [48, 49, 50, 51, 52, 53, 54, 55],\n",
       "       [56, 57, 58, 59, 60, 61, 62, 63]])"
      ]
     },
     "execution_count": 4,
     "metadata": {},
     "output_type": "execute_result"
    }
   ],
   "source": [
    "arr2d = np.arange(64).reshape(8,8)\n",
    "arr2d"
   ]
  },
  {
   "cell_type": "code",
   "execution_count": 27,
   "id": "e5bca661-f661-4061-906f-892af6f3b2f2",
   "metadata": {},
   "outputs": [
    {
     "data": {
      "text/plain": [
       "array([ 98, 123])"
      ]
     },
     "execution_count": 27,
     "metadata": {},
     "output_type": "execute_result"
    }
   ],
   "source": [
    "ages[ages>80]"
   ]
  },
  {
   "cell_type": "markdown",
   "id": "30850c32-24d1-4617-afce-895e4823ee77",
   "metadata": {},
   "source": [
    "<h1>masking</h1>"
   ]
  },
  {
   "cell_type": "code",
   "execution_count": 29,
   "id": "b197d544-834a-43cf-8c01-61f76b166a7e",
   "metadata": {},
   "outputs": [
    {
     "data": {
      "text/plain": [
       "array([ 54,  54,  76,  98, 123,  76])"
      ]
     },
     "execution_count": 29,
     "metadata": {},
     "output_type": "execute_result"
    }
   ],
   "source": [
    "ages[(ages>50) & (ages<150)]"
   ]
  },
  {
   "cell_type": "code",
   "execution_count": 31,
   "id": "2b2bc08f-db08-4d45-8c72-ba9c5b6d2f65",
   "metadata": {},
   "outputs": [
    {
     "data": {
      "text/plain": [
       "array([ 0,  1,  2,  3,  4,  5,  6,  7,  8,  9, 10, 11, 12, 13, 14, 15, 16,\n",
       "       17, 18, 19, 20, 21, 22, 23, 24, 25, 26, 27, 28, 29, 30, 31, 32, 33,\n",
       "       34, 35, 36, 37, 38, 39, 40, 41, 42, 43, 44, 45, 46, 47, 48, 49])"
      ]
     },
     "execution_count": 31,
     "metadata": {},
     "output_type": "execute_result"
    }
   ],
   "source": [
    "arr2d[arr2d<50]"
   ]
  },
  {
   "cell_type": "code",
   "execution_count": 32,
   "id": "da7ca879-969f-467b-b3b4-80fcb5464387",
   "metadata": {},
   "outputs": [
    {
     "data": {
      "text/plain": [
       "array([[ 1,  1,  3,  3,  5,  5,  7,  7],\n",
       "       [ 9,  9, 11, 11, 13, 13, 15, 15],\n",
       "       [17, 17, 19, 19, 21, 21, 23, 23],\n",
       "       [25, 25, 27, 27, 29, 29, 31, 31],\n",
       "       [33, 33, 35, 35, 37, 37, 39, 39],\n",
       "       [41, 41, 43, 43, 45, 45, 47, 47],\n",
       "       [49, 49, 51, 51, 53, 53, 55, 55],\n",
       "       [57, 57, 59, 59, 61, 61, 63, 63]])"
      ]
     },
     "execution_count": 32,
     "metadata": {},
     "output_type": "execute_result"
    }
   ],
   "source": [
    "np.where(arr2d%2==0,arr2d+1,arr2d)"
   ]
  },
  {
   "cell_type": "code",
   "execution_count": 30,
   "id": "d677c1d9-1320-4b96-99e5-7a5da693bd19",
   "metadata": {},
   "outputs": [],
   "source": [
    "ages = np.array([54,2,24,54,76,98,123,76,9])"
   ]
  }
 ],
 "metadata": {
  "kernelspec": {
   "display_name": "Python 3 (ipykernel)",
   "language": "python",
   "name": "python3"
  },
  "language_info": {
   "codemirror_mode": {
    "name": "ipython",
    "version": 3
   },
   "file_extension": ".py",
   "mimetype": "text/x-python",
   "name": "python",
   "nbconvert_exporter": "python",
   "pygments_lexer": "ipython3",
   "version": "3.13.1"
  }
 },
 "nbformat": 4,
 "nbformat_minor": 5
}
