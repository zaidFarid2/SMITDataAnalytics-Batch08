{
 "cells": [
  {
   "cell_type": "code",
   "execution_count": 1,
   "id": "f9164de1-11e4-47bc-ab34-fe66e8a28343",
   "metadata": {},
   "outputs": [
    {
     "name": "stdout",
     "output_type": "stream",
     "text": [
      "[ 8.  9. 11. 12.  9. 10. 10. 10. 10. 10.]\n",
      "[False False  True  True False  True  True  True  True  True]\n",
      "[ 9.  9. 10. 10. 10. 10.]\n"
     ]
    }
   ],
   "source": [
    "import numpy as np \n",
    "import math as mt\n",
    "random_number = np.round(np.random.randn(10)+10)   \n",
    "\n",
    "print(random_number)\n",
    "print(random_number>9)\n",
    "print(random_number[[False,  True, False, False,  True,  True,  True,  True,  True, False]])"
   ]
  }
 ],
 "metadata": {
  "kernelspec": {
   "display_name": "Python 3 (ipykernel)",
   "language": "python",
   "name": "python3"
  },
  "language_info": {
   "codemirror_mode": {
    "name": "ipython",
    "version": 3
   },
   "file_extension": ".py",
   "mimetype": "text/x-python",
   "name": "python",
   "nbconvert_exporter": "python",
   "pygments_lexer": "ipython3",
   "version": "3.13.1"
  }
 },
 "nbformat": 4,
 "nbformat_minor": 5
}
